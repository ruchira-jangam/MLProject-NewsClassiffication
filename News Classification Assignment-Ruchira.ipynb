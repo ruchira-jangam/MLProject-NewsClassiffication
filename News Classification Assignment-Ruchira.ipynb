{
 "cells": [
  {
   "cell_type": "code",
   "execution_count": 1,
   "id": "95df5840",
   "metadata": {},
   "outputs": [
    {
     "name": "stderr",
     "output_type": "stream",
     "text": [
      "[nltk_data] Downloading package stopwords to\n",
      "[nltk_data]     C:\\Users\\win10\\AppData\\Roaming\\nltk_data...\n",
      "[nltk_data]   Package stopwords is already up-to-date!\n"
     ]
    }
   ],
   "source": [
    "#import packages\n",
    "\n",
    "import pandas as pd\n",
    "import numpy as np\n",
    "import matplotlib.pyplot as plt\n",
    "import seaborn as sns\n",
    "import re\n",
    "import nltk\n",
    "nltk.download('stopwords')\n",
    "from nltk.corpus import stopwords\n",
    "from nltk.stem.porter import PorterStemmer\n",
    "from sklearn.utils import resample\n",
    "from nltk.stem.wordnet import WordNetLemmatizer\n",
    "\n",
    "#sklearn package \n",
    "from sklearn.model_selection import train_test_split\n",
    "from sklearn.feature_extraction.text import TfidfVectorizer\n",
    "from sklearn. preprocessing import LabelEncoder\n",
    "from sklearn.naive_bayes import ComplementNB,MultinomialNB,GaussianNB \n",
    "\n",
    "from sklearn.model_selection import cross_val_score\n",
    "from sklearn.svm import SVC\n",
    "from sklearn.linear_model import LogisticRegression\n",
    "from sklearn.model_selection import GridSearchCV\n",
    "from sklearn.ensemble import GradientBoostingClassifier\n",
    "from sklearn.pipeline import make_pipeline\n",
    "from sklearn.preprocessing import StandardScaler\n",
    "\n",
    "from sklearn.metrics import accuracy_score,classification_report, confusion_matrix,recall_score,precision_score,f1_score"
   ]
  },
  {
   "cell_type": "code",
   "execution_count": 2,
   "id": "e26d35e6",
   "metadata": {},
   "outputs": [
    {
     "data": {
      "text/html": [
       "<div>\n",
       "<style scoped>\n",
       "    .dataframe tbody tr th:only-of-type {\n",
       "        vertical-align: middle;\n",
       "    }\n",
       "\n",
       "    .dataframe tbody tr th {\n",
       "        vertical-align: top;\n",
       "    }\n",
       "\n",
       "    .dataframe thead th {\n",
       "        text-align: right;\n",
       "    }\n",
       "</style>\n",
       "<table border=\"1\" class=\"dataframe\">\n",
       "  <thead>\n",
       "    <tr style=\"text-align: right;\">\n",
       "      <th></th>\n",
       "      <th>link</th>\n",
       "      <th>headline</th>\n",
       "      <th>category</th>\n",
       "      <th>short_description</th>\n",
       "      <th>authors</th>\n",
       "      <th>date</th>\n",
       "    </tr>\n",
       "  </thead>\n",
       "  <tbody>\n",
       "    <tr>\n",
       "      <th>0</th>\n",
       "      <td>https://www.huffpost.com/entry/covid-boosters-...</td>\n",
       "      <td>Over 4 Million Americans Roll Up Sleeves For O...</td>\n",
       "      <td>U.S. NEWS</td>\n",
       "      <td>Health experts said it is too early to predict...</td>\n",
       "      <td>Carla K. Johnson, AP</td>\n",
       "      <td>2022-09-23</td>\n",
       "    </tr>\n",
       "    <tr>\n",
       "      <th>1</th>\n",
       "      <td>https://www.huffpost.com/entry/american-airlin...</td>\n",
       "      <td>American Airlines Flyer Charged, Banned For Li...</td>\n",
       "      <td>U.S. NEWS</td>\n",
       "      <td>He was subdued by passengers and crew when he ...</td>\n",
       "      <td>Mary Papenfuss</td>\n",
       "      <td>2022-09-23</td>\n",
       "    </tr>\n",
       "    <tr>\n",
       "      <th>2</th>\n",
       "      <td>https://www.huffpost.com/entry/funniest-tweets...</td>\n",
       "      <td>23 Of The Funniest Tweets About Cats And Dogs ...</td>\n",
       "      <td>COMEDY</td>\n",
       "      <td>\"Until you have a dog you don't understand wha...</td>\n",
       "      <td>Elyse Wanshel</td>\n",
       "      <td>2022-09-23</td>\n",
       "    </tr>\n",
       "    <tr>\n",
       "      <th>3</th>\n",
       "      <td>https://www.huffpost.com/entry/funniest-parent...</td>\n",
       "      <td>The Funniest Tweets From Parents This Week (Se...</td>\n",
       "      <td>PARENTING</td>\n",
       "      <td>\"Accidentally put grown-up toothpaste on my to...</td>\n",
       "      <td>Caroline Bologna</td>\n",
       "      <td>2022-09-23</td>\n",
       "    </tr>\n",
       "    <tr>\n",
       "      <th>4</th>\n",
       "      <td>https://www.huffpost.com/entry/amy-cooper-lose...</td>\n",
       "      <td>Woman Who Called Cops On Black Bird-Watcher Lo...</td>\n",
       "      <td>U.S. NEWS</td>\n",
       "      <td>Amy Cooper accused investment firm Franklin Te...</td>\n",
       "      <td>Nina Golgowski</td>\n",
       "      <td>2022-09-22</td>\n",
       "    </tr>\n",
       "  </tbody>\n",
       "</table>\n",
       "</div>"
      ],
      "text/plain": [
       "                                                link  \\\n",
       "0  https://www.huffpost.com/entry/covid-boosters-...   \n",
       "1  https://www.huffpost.com/entry/american-airlin...   \n",
       "2  https://www.huffpost.com/entry/funniest-tweets...   \n",
       "3  https://www.huffpost.com/entry/funniest-parent...   \n",
       "4  https://www.huffpost.com/entry/amy-cooper-lose...   \n",
       "\n",
       "                                            headline   category  \\\n",
       "0  Over 4 Million Americans Roll Up Sleeves For O...  U.S. NEWS   \n",
       "1  American Airlines Flyer Charged, Banned For Li...  U.S. NEWS   \n",
       "2  23 Of The Funniest Tweets About Cats And Dogs ...     COMEDY   \n",
       "3  The Funniest Tweets From Parents This Week (Se...  PARENTING   \n",
       "4  Woman Who Called Cops On Black Bird-Watcher Lo...  U.S. NEWS   \n",
       "\n",
       "                                   short_description               authors  \\\n",
       "0  Health experts said it is too early to predict...  Carla K. Johnson, AP   \n",
       "1  He was subdued by passengers and crew when he ...        Mary Papenfuss   \n",
       "2  \"Until you have a dog you don't understand wha...         Elyse Wanshel   \n",
       "3  \"Accidentally put grown-up toothpaste on my to...      Caroline Bologna   \n",
       "4  Amy Cooper accused investment firm Franklin Te...        Nina Golgowski   \n",
       "\n",
       "        date  \n",
       "0 2022-09-23  \n",
       "1 2022-09-23  \n",
       "2 2022-09-23  \n",
       "3 2022-09-23  \n",
       "4 2022-09-22  "
      ]
     },
     "execution_count": 2,
     "metadata": {},
     "output_type": "execute_result"
    }
   ],
   "source": [
    "# Read the data\n",
    "\n",
    "df = pd.read_json('News_Category_Dataset_v3.json', lines=True)\n",
    "df.head()"
   ]
  },
  {
   "cell_type": "code",
   "execution_count": 3,
   "id": "bb391b55",
   "metadata": {},
   "outputs": [
    {
     "data": {
      "text/plain": [
       "(209527, 6)"
      ]
     },
     "execution_count": 3,
     "metadata": {},
     "output_type": "execute_result"
    }
   ],
   "source": [
    "df.shape"
   ]
  },
  {
   "cell_type": "code",
   "execution_count": 4,
   "id": "4765f731",
   "metadata": {},
   "outputs": [
    {
     "name": "stderr",
     "output_type": "stream",
     "text": [
      "C:\\Users\\win10\\AppData\\Local\\Temp\\ipykernel_1420\\3627053830.py:1: FutureWarning: Treating datetime data as categorical rather than numeric in `.describe` is deprecated and will be removed in a future version of pandas. Specify `datetime_is_numeric=True` to silence this warning and adopt the future behavior now.\n",
      "  df.describe()\n"
     ]
    },
    {
     "data": {
      "text/html": [
       "<div>\n",
       "<style scoped>\n",
       "    .dataframe tbody tr th:only-of-type {\n",
       "        vertical-align: middle;\n",
       "    }\n",
       "\n",
       "    .dataframe tbody tr th {\n",
       "        vertical-align: top;\n",
       "    }\n",
       "\n",
       "    .dataframe thead th {\n",
       "        text-align: right;\n",
       "    }\n",
       "</style>\n",
       "<table border=\"1\" class=\"dataframe\">\n",
       "  <thead>\n",
       "    <tr style=\"text-align: right;\">\n",
       "      <th></th>\n",
       "      <th>link</th>\n",
       "      <th>headline</th>\n",
       "      <th>category</th>\n",
       "      <th>short_description</th>\n",
       "      <th>authors</th>\n",
       "      <th>date</th>\n",
       "    </tr>\n",
       "  </thead>\n",
       "  <tbody>\n",
       "    <tr>\n",
       "      <th>count</th>\n",
       "      <td>209527</td>\n",
       "      <td>209527</td>\n",
       "      <td>209527</td>\n",
       "      <td>209527</td>\n",
       "      <td>209527</td>\n",
       "      <td>209527</td>\n",
       "    </tr>\n",
       "    <tr>\n",
       "      <th>unique</th>\n",
       "      <td>209486</td>\n",
       "      <td>207996</td>\n",
       "      <td>42</td>\n",
       "      <td>187022</td>\n",
       "      <td>29169</td>\n",
       "      <td>3890</td>\n",
       "    </tr>\n",
       "    <tr>\n",
       "      <th>top</th>\n",
       "      <td>https://www.huffingtonpost.comhttps://www.wash...</td>\n",
       "      <td>Sunday Roundup</td>\n",
       "      <td>POLITICS</td>\n",
       "      <td></td>\n",
       "      <td></td>\n",
       "      <td>2014-03-25 00:00:00</td>\n",
       "    </tr>\n",
       "    <tr>\n",
       "      <th>freq</th>\n",
       "      <td>2</td>\n",
       "      <td>90</td>\n",
       "      <td>35602</td>\n",
       "      <td>19712</td>\n",
       "      <td>37418</td>\n",
       "      <td>100</td>\n",
       "    </tr>\n",
       "    <tr>\n",
       "      <th>first</th>\n",
       "      <td>NaN</td>\n",
       "      <td>NaN</td>\n",
       "      <td>NaN</td>\n",
       "      <td>NaN</td>\n",
       "      <td>NaN</td>\n",
       "      <td>2012-01-28 00:00:00</td>\n",
       "    </tr>\n",
       "    <tr>\n",
       "      <th>last</th>\n",
       "      <td>NaN</td>\n",
       "      <td>NaN</td>\n",
       "      <td>NaN</td>\n",
       "      <td>NaN</td>\n",
       "      <td>NaN</td>\n",
       "      <td>2022-09-23 00:00:00</td>\n",
       "    </tr>\n",
       "  </tbody>\n",
       "</table>\n",
       "</div>"
      ],
      "text/plain": [
       "                                                     link        headline  \\\n",
       "count                                              209527          209527   \n",
       "unique                                             209486          207996   \n",
       "top     https://www.huffingtonpost.comhttps://www.wash...  Sunday Roundup   \n",
       "freq                                                    2              90   \n",
       "first                                                 NaN             NaN   \n",
       "last                                                  NaN             NaN   \n",
       "\n",
       "        category short_description authors                 date  \n",
       "count     209527            209527  209527               209527  \n",
       "unique        42            187022   29169                 3890  \n",
       "top     POLITICS                            2014-03-25 00:00:00  \n",
       "freq       35602             19712   37418                  100  \n",
       "first        NaN               NaN     NaN  2012-01-28 00:00:00  \n",
       "last         NaN               NaN     NaN  2022-09-23 00:00:00  "
      ]
     },
     "execution_count": 4,
     "metadata": {},
     "output_type": "execute_result"
    }
   ],
   "source": [
    "df.describe()"
   ]
  },
  {
   "cell_type": "code",
   "execution_count": 5,
   "id": "d3085ce8",
   "metadata": {},
   "outputs": [
    {
     "name": "stdout",
     "output_type": "stream",
     "text": [
      "<class 'pandas.core.frame.DataFrame'>\n",
      "RangeIndex: 209527 entries, 0 to 209526\n",
      "Data columns (total 6 columns):\n",
      " #   Column             Non-Null Count   Dtype         \n",
      "---  ------             --------------   -----         \n",
      " 0   link               209527 non-null  object        \n",
      " 1   headline           209527 non-null  object        \n",
      " 2   category           209527 non-null  object        \n",
      " 3   short_description  209527 non-null  object        \n",
      " 4   authors            209527 non-null  object        \n",
      " 5   date               209527 non-null  datetime64[ns]\n",
      "dtypes: datetime64[ns](1), object(5)\n",
      "memory usage: 9.6+ MB\n"
     ]
    }
   ],
   "source": [
    "df.info()"
   ]
  },
  {
   "cell_type": "code",
   "execution_count": 6,
   "id": "3ac9656a",
   "metadata": {},
   "outputs": [
    {
     "data": {
      "text/html": [
       "<div>\n",
       "<style scoped>\n",
       "    .dataframe tbody tr th:only-of-type {\n",
       "        vertical-align: middle;\n",
       "    }\n",
       "\n",
       "    .dataframe tbody tr th {\n",
       "        vertical-align: top;\n",
       "    }\n",
       "\n",
       "    .dataframe thead th {\n",
       "        text-align: right;\n",
       "    }\n",
       "</style>\n",
       "<table border=\"1\" class=\"dataframe\">\n",
       "  <thead>\n",
       "    <tr style=\"text-align: right;\">\n",
       "      <th></th>\n",
       "      <th>headline</th>\n",
       "      <th>category</th>\n",
       "      <th>short_description</th>\n",
       "      <th>authors</th>\n",
       "    </tr>\n",
       "  </thead>\n",
       "  <tbody>\n",
       "    <tr>\n",
       "      <th>0</th>\n",
       "      <td>Over 4 Million Americans Roll Up Sleeves For O...</td>\n",
       "      <td>U.S. NEWS</td>\n",
       "      <td>Health experts said it is too early to predict...</td>\n",
       "      <td>Carla K. Johnson, AP</td>\n",
       "    </tr>\n",
       "    <tr>\n",
       "      <th>1</th>\n",
       "      <td>American Airlines Flyer Charged, Banned For Li...</td>\n",
       "      <td>U.S. NEWS</td>\n",
       "      <td>He was subdued by passengers and crew when he ...</td>\n",
       "      <td>Mary Papenfuss</td>\n",
       "    </tr>\n",
       "    <tr>\n",
       "      <th>2</th>\n",
       "      <td>23 Of The Funniest Tweets About Cats And Dogs ...</td>\n",
       "      <td>COMEDY</td>\n",
       "      <td>\"Until you have a dog you don't understand wha...</td>\n",
       "      <td>Elyse Wanshel</td>\n",
       "    </tr>\n",
       "    <tr>\n",
       "      <th>3</th>\n",
       "      <td>The Funniest Tweets From Parents This Week (Se...</td>\n",
       "      <td>PARENTING</td>\n",
       "      <td>\"Accidentally put grown-up toothpaste on my to...</td>\n",
       "      <td>Caroline Bologna</td>\n",
       "    </tr>\n",
       "    <tr>\n",
       "      <th>4</th>\n",
       "      <td>Woman Who Called Cops On Black Bird-Watcher Lo...</td>\n",
       "      <td>U.S. NEWS</td>\n",
       "      <td>Amy Cooper accused investment firm Franklin Te...</td>\n",
       "      <td>Nina Golgowski</td>\n",
       "    </tr>\n",
       "  </tbody>\n",
       "</table>\n",
       "</div>"
      ],
      "text/plain": [
       "                                            headline   category  \\\n",
       "0  Over 4 Million Americans Roll Up Sleeves For O...  U.S. NEWS   \n",
       "1  American Airlines Flyer Charged, Banned For Li...  U.S. NEWS   \n",
       "2  23 Of The Funniest Tweets About Cats And Dogs ...     COMEDY   \n",
       "3  The Funniest Tweets From Parents This Week (Se...  PARENTING   \n",
       "4  Woman Who Called Cops On Black Bird-Watcher Lo...  U.S. NEWS   \n",
       "\n",
       "                                   short_description               authors  \n",
       "0  Health experts said it is too early to predict...  Carla K. Johnson, AP  \n",
       "1  He was subdued by passengers and crew when he ...        Mary Papenfuss  \n",
       "2  \"Until you have a dog you don't understand wha...         Elyse Wanshel  \n",
       "3  \"Accidentally put grown-up toothpaste on my to...      Caroline Bologna  \n",
       "4  Amy Cooper accused investment firm Franklin Te...        Nina Golgowski  "
      ]
     },
     "execution_count": 6,
     "metadata": {},
     "output_type": "execute_result"
    }
   ],
   "source": [
    "# Drop unwanted columns \n",
    "\n",
    "df.drop(['link','date'],axis=1,inplace = True)\n",
    "df.head()"
   ]
  },
  {
   "cell_type": "code",
   "execution_count": 7,
   "id": "d1f9e9b3",
   "metadata": {},
   "outputs": [
    {
     "data": {
      "text/plain": [
       "42"
      ]
     },
     "execution_count": 7,
     "metadata": {},
     "output_type": "execute_result"
    }
   ],
   "source": [
    "# Total number of unique categories\n",
    "\n",
    "df['category'].nunique()"
   ]
  },
  {
   "cell_type": "code",
   "execution_count": 8,
   "id": "477c49bc",
   "metadata": {},
   "outputs": [
    {
     "data": {
      "text/plain": [
       "POLITICS          35602\n",
       "WELLNESS          17945\n",
       "ENTERTAINMENT     17362\n",
       "TRAVEL             9900\n",
       "STYLE & BEAUTY     9814\n",
       "PARENTING          8791\n",
       "HEALTHY LIVING     6694\n",
       "QUEER VOICES       6347\n",
       "FOOD & DRINK       6340\n",
       "BUSINESS           5992\n",
       "COMEDY             5400\n",
       "SPORTS             5077\n",
       "BLACK VOICES       4583\n",
       "HOME & LIVING      4320\n",
       "PARENTS            3955\n",
       "THE WORLDPOST      3664\n",
       "WEDDINGS           3653\n",
       "WOMEN              3572\n",
       "CRIME              3562\n",
       "IMPACT             3484\n",
       "DIVORCE            3426\n",
       "WORLD NEWS         3299\n",
       "MEDIA              2944\n",
       "WEIRD NEWS         2777\n",
       "GREEN              2622\n",
       "WORLDPOST          2579\n",
       "RELIGION           2577\n",
       "STYLE              2254\n",
       "SCIENCE            2206\n",
       "TECH               2104\n",
       "TASTE              2096\n",
       "MONEY              1756\n",
       "ARTS               1509\n",
       "ENVIRONMENT        1444\n",
       "FIFTY              1401\n",
       "GOOD NEWS          1398\n",
       "U.S. NEWS          1377\n",
       "ARTS & CULTURE     1339\n",
       "COLLEGE            1144\n",
       "LATINO VOICES      1130\n",
       "CULTURE & ARTS     1074\n",
       "EDUCATION          1014\n",
       "Name: category, dtype: int64"
      ]
     },
     "execution_count": 8,
     "metadata": {},
     "output_type": "execute_result"
    }
   ],
   "source": [
    "# count per category\n",
    "\n",
    "df['category'].value_counts()"
   ]
  },
  {
   "cell_type": "code",
   "execution_count": 9,
   "id": "ecb5d02d",
   "metadata": {},
   "outputs": [
    {
     "data": {
      "text/plain": [
       "447"
      ]
     },
     "execution_count": 9,
     "metadata": {},
     "output_type": "execute_result"
    }
   ],
   "source": [
    "# Count of duplicate values\n",
    "\n",
    "df.duplicated().sum()"
   ]
  },
  {
   "cell_type": "code",
   "execution_count": 10,
   "id": "06bb2619",
   "metadata": {},
   "outputs": [],
   "source": [
    "# Delete the dublicate values\n",
    "\n",
    "df.drop_duplicates(keep='last',inplace=True)"
   ]
  },
  {
   "cell_type": "code",
   "execution_count": 11,
   "id": "d820836b",
   "metadata": {},
   "outputs": [
    {
     "data": {
      "text/plain": [
       "42"
      ]
     },
     "execution_count": 11,
     "metadata": {},
     "output_type": "execute_result"
    }
   ],
   "source": [
    "# Check for duplicate headline and short description\n",
    "\n",
    "df.duplicated(subset=['headline', 'short_description']).sum()"
   ]
  },
  {
   "cell_type": "code",
   "execution_count": 12,
   "id": "c8bd8090",
   "metadata": {},
   "outputs": [],
   "source": [
    "df.drop_duplicates(subset=['headline', 'short_description'],inplace=True,keep='last')"
   ]
  },
  {
   "cell_type": "code",
   "execution_count": 13,
   "id": "0b937499",
   "metadata": {},
   "outputs": [
    {
     "data": {
      "text/plain": [
       "(209038, 4)"
      ]
     },
     "execution_count": 13,
     "metadata": {},
     "output_type": "execute_result"
    }
   ],
   "source": [
    "df.shape"
   ]
  },
  {
   "cell_type": "code",
   "execution_count": 14,
   "id": "d0883a6f",
   "metadata": {},
   "outputs": [
    {
     "data": {
      "text/plain": [
       "headline             0\n",
       "category             0\n",
       "short_description    0\n",
       "authors              0\n",
       "dtype: int64"
      ]
     },
     "execution_count": 14,
     "metadata": {},
     "output_type": "execute_result"
    }
   ],
   "source": [
    "# Null values check\n",
    "\n",
    "df.isnull().sum()"
   ]
  },
  {
   "cell_type": "code",
   "execution_count": 15,
   "id": "b57fc545",
   "metadata": {},
   "outputs": [
    {
     "data": {
      "text/html": [
       "<div>\n",
       "<style scoped>\n",
       "    .dataframe tbody tr th:only-of-type {\n",
       "        vertical-align: middle;\n",
       "    }\n",
       "\n",
       "    .dataframe tbody tr th {\n",
       "        vertical-align: top;\n",
       "    }\n",
       "\n",
       "    .dataframe thead th {\n",
       "        text-align: right;\n",
       "    }\n",
       "</style>\n",
       "<table border=\"1\" class=\"dataframe\">\n",
       "  <thead>\n",
       "    <tr style=\"text-align: right;\">\n",
       "      <th></th>\n",
       "      <th>headline</th>\n",
       "      <th>category</th>\n",
       "      <th>short_description</th>\n",
       "      <th>authors</th>\n",
       "    </tr>\n",
       "  </thead>\n",
       "  <tbody>\n",
       "    <tr>\n",
       "      <th>95567</th>\n",
       "      <td></td>\n",
       "      <td>RELIGION</td>\n",
       "      <td>Let everyone not wrapped in tired and disprove...</td>\n",
       "      <td>Matthew Fox, ContributorRadical theologian Mat...</td>\n",
       "    </tr>\n",
       "    <tr>\n",
       "      <th>122145</th>\n",
       "      <td></td>\n",
       "      <td>QUEER VOICES</td>\n",
       "      <td></td>\n",
       "      <td>Gary Snyder, ContributorWriter and Media Strat...</td>\n",
       "    </tr>\n",
       "  </tbody>\n",
       "</table>\n",
       "</div>"
      ],
      "text/plain": [
       "       headline      category  \\\n",
       "95567                RELIGION   \n",
       "122145           QUEER VOICES   \n",
       "\n",
       "                                        short_description  \\\n",
       "95567   Let everyone not wrapped in tired and disprove...   \n",
       "122145                                                      \n",
       "\n",
       "                                                  authors  \n",
       "95567   Matthew Fox, ContributorRadical theologian Mat...  \n",
       "122145  Gary Snyder, ContributorWriter and Media Strat...  "
      ]
     },
     "execution_count": 15,
     "metadata": {},
     "output_type": "execute_result"
    }
   ],
   "source": [
    "# Blank values check\n",
    "\n",
    "df[df['headline'] == '']"
   ]
  },
  {
   "cell_type": "code",
   "execution_count": 16,
   "id": "db6e8632",
   "metadata": {},
   "outputs": [],
   "source": [
    "# Drop the blank values\n",
    "\n",
    "headline_blank = df['headline'] == ''\n",
    "df = df[~headline_blank]\n"
   ]
  },
  {
   "cell_type": "code",
   "execution_count": 17,
   "id": "4bc9c265",
   "metadata": {},
   "outputs": [
    {
     "data": {
      "text/html": [
       "<div>\n",
       "<style scoped>\n",
       "    .dataframe tbody tr th:only-of-type {\n",
       "        vertical-align: middle;\n",
       "    }\n",
       "\n",
       "    .dataframe tbody tr th {\n",
       "        vertical-align: top;\n",
       "    }\n",
       "\n",
       "    .dataframe thead th {\n",
       "        text-align: right;\n",
       "    }\n",
       "</style>\n",
       "<table border=\"1\" class=\"dataframe\">\n",
       "  <thead>\n",
       "    <tr style=\"text-align: right;\">\n",
       "      <th></th>\n",
       "      <th>headline</th>\n",
       "      <th>category</th>\n",
       "      <th>short_description</th>\n",
       "      <th>authors</th>\n",
       "    </tr>\n",
       "  </thead>\n",
       "  <tbody>\n",
       "    <tr>\n",
       "      <th>20773</th>\n",
       "      <td>The Big Blue Wave</td>\n",
       "      <td>COMEDY</td>\n",
       "      <td></td>\n",
       "      <td>Shan Wells, ContributorSciency sun venerator +...</td>\n",
       "    </tr>\n",
       "    <tr>\n",
       "      <th>21523</th>\n",
       "      <td>Inside Rukban Camp, One Of Syria’s Most Desper...</td>\n",
       "      <td>WORLD NEWS</td>\n",
       "      <td></td>\n",
       "      <td>Yasser Allawi, Syria Deeply</td>\n",
       "    </tr>\n",
       "    <tr>\n",
       "      <th>22793</th>\n",
       "      <td>Syrian Refugees Return From Lebanon Only To Fl...</td>\n",
       "      <td>WORLD NEWS</td>\n",
       "      <td></td>\n",
       "      <td>Abby Sewell, Refugees Deeply</td>\n",
       "    </tr>\n",
       "    <tr>\n",
       "      <th>32223</th>\n",
       "      <td>Your Guide To The Best BBQ In St. Louis Accord...</td>\n",
       "      <td>TASTE</td>\n",
       "      <td></td>\n",
       "      <td></td>\n",
       "    </tr>\n",
       "    <tr>\n",
       "      <th>34488</th>\n",
       "      <td>The Bechdel Test</td>\n",
       "      <td>COMEDY</td>\n",
       "      <td></td>\n",
       "      <td>Hilary Fitzgerald Campbell, ContributorHilary'...</td>\n",
       "    </tr>\n",
       "    <tr>\n",
       "      <th>...</th>\n",
       "      <td>...</td>\n",
       "      <td>...</td>\n",
       "      <td>...</td>\n",
       "      <td>...</td>\n",
       "    </tr>\n",
       "    <tr>\n",
       "      <th>206924</th>\n",
       "      <td>True LGBTQ Stories: When A College Football Te...</td>\n",
       "      <td>QUEER VOICES</td>\n",
       "      <td></td>\n",
       "      <td>Nathan Manske, Contributor\\nExecutive Director...</td>\n",
       "    </tr>\n",
       "    <tr>\n",
       "      <th>206939</th>\n",
       "      <td>'Chasing Ice' -- The Climate Change Debate Is ...</td>\n",
       "      <td>ENVIRONMENT</td>\n",
       "      <td></td>\n",
       "      <td>Greg Reitman, Contributor\\nFounder of Blue Wat...</td>\n",
       "    </tr>\n",
       "    <tr>\n",
       "      <th>208803</th>\n",
       "      <td>Practice for International Kissing Day: 'Love ...</td>\n",
       "      <td>IMPACT</td>\n",
       "      <td></td>\n",
       "      <td>Karen Dalton-Beninato, Contributor\\nWriter Nea...</td>\n",
       "    </tr>\n",
       "    <tr>\n",
       "      <th>208865</th>\n",
       "      <td>Zach Huston, Victim of Brutal Ohio School Bull...</td>\n",
       "      <td>QUEER VOICES</td>\n",
       "      <td></td>\n",
       "      <td>Ian Thompson, Contributor\\nLegislative Represe...</td>\n",
       "    </tr>\n",
       "    <tr>\n",
       "      <th>208940</th>\n",
       "      <td>5 Nail Trends That You Can Actually Do Yourself</td>\n",
       "      <td>STYLE &amp; BEAUTY</td>\n",
       "      <td></td>\n",
       "      <td>Brooke Moreland, Contributor\\nContributor</td>\n",
       "    </tr>\n",
       "  </tbody>\n",
       "</table>\n",
       "<p>19610 rows × 4 columns</p>\n",
       "</div>"
      ],
      "text/plain": [
       "                                                 headline        category  \\\n",
       "20773                                   The Big Blue Wave          COMEDY   \n",
       "21523   Inside Rukban Camp, One Of Syria’s Most Desper...      WORLD NEWS   \n",
       "22793   Syrian Refugees Return From Lebanon Only To Fl...      WORLD NEWS   \n",
       "32223   Your Guide To The Best BBQ In St. Louis Accord...           TASTE   \n",
       "34488                                    The Bechdel Test          COMEDY   \n",
       "...                                                   ...             ...   \n",
       "206924  True LGBTQ Stories: When A College Football Te...    QUEER VOICES   \n",
       "206939  'Chasing Ice' -- The Climate Change Debate Is ...     ENVIRONMENT   \n",
       "208803  Practice for International Kissing Day: 'Love ...          IMPACT   \n",
       "208865  Zach Huston, Victim of Brutal Ohio School Bull...    QUEER VOICES   \n",
       "208940    5 Nail Trends That You Can Actually Do Yourself  STYLE & BEAUTY   \n",
       "\n",
       "       short_description                                            authors  \n",
       "20773                     Shan Wells, ContributorSciency sun venerator +...  \n",
       "21523                                           Yasser Allawi, Syria Deeply  \n",
       "22793                                          Abby Sewell, Refugees Deeply  \n",
       "32223                                                                        \n",
       "34488                     Hilary Fitzgerald Campbell, ContributorHilary'...  \n",
       "...                  ...                                                ...  \n",
       "206924                    Nathan Manske, Contributor\\nExecutive Director...  \n",
       "206939                    Greg Reitman, Contributor\\nFounder of Blue Wat...  \n",
       "208803                    Karen Dalton-Beninato, Contributor\\nWriter Nea...  \n",
       "208865                    Ian Thompson, Contributor\\nLegislative Represe...  \n",
       "208940                            Brooke Moreland, Contributor\\nContributor  \n",
       "\n",
       "[19610 rows x 4 columns]"
      ]
     },
     "execution_count": 17,
     "metadata": {},
     "output_type": "execute_result"
    }
   ],
   "source": [
    "# Check and drop the blank short describtion column\n",
    "\n",
    "df[df['short_description'] == '']"
   ]
  },
  {
   "cell_type": "code",
   "execution_count": 18,
   "id": "b9ff1952",
   "metadata": {},
   "outputs": [],
   "source": [
    "description_blank = df['short_description'] == ''\n",
    "df = df[~description_blank]"
   ]
  },
  {
   "cell_type": "code",
   "execution_count": 19,
   "id": "85da98b0",
   "metadata": {},
   "outputs": [
    {
     "data": {
      "text/plain": [
       "POLITICS          32425\n",
       "WELLNESS          17938\n",
       "ENTERTAINMENT     14772\n",
       "STYLE & BEAUTY     9665\n",
       "TRAVEL             9418\n",
       "PARENTING          8762\n",
       "FOOD & DRINK       6331\n",
       "QUEER VOICES       5601\n",
       "HEALTHY LIVING     5264\n",
       "BUSINESS           5130\n",
       "COMEDY             4642\n",
       "SPORTS             4414\n",
       "HOME & LIVING      4282\n",
       "BLACK VOICES       4174\n",
       "THE WORLDPOST      3664\n",
       "WEDDINGS           3653\n",
       "PARENTS            3516\n",
       "DIVORCE            3423\n",
       "WORLD NEWS         3295\n",
       "WOMEN              3136\n",
       "IMPACT             3085\n",
       "CRIME              2831\n",
       "MEDIA              2402\n",
       "WEIRD NEWS         2316\n",
       "TECH               2054\n",
       "GREEN              2044\n",
       "TASTE              1940\n",
       "RELIGION           1878\n",
       "SCIENCE            1803\n",
       "MONEY              1755\n",
       "STYLE              1564\n",
       "ENVIRONMENT        1441\n",
       "U.S. NEWS          1377\n",
       "ARTS & CULTURE     1338\n",
       "WORLDPOST          1242\n",
       "CULTURE & ARTS     1062\n",
       "FIFTY              1042\n",
       "GOOD NEWS          1039\n",
       "LATINO VOICES      1022\n",
       "COLLEGE             921\n",
       "EDUCATION           902\n",
       "ARTS                863\n",
       "Name: category, dtype: int64"
      ]
     },
     "execution_count": 19,
     "metadata": {},
     "output_type": "execute_result"
    }
   ],
   "source": [
    "df['category'].value_counts()"
   ]
  },
  {
   "cell_type": "code",
   "execution_count": 20,
   "id": "f91b7531",
   "metadata": {},
   "outputs": [],
   "source": [
    "# Drop the category type having less number of records to improve accuracy. dropping categories having count < 2000\n",
    "\n",
    "categories_keep = (df['category'] == 'POLITICS') | (df['category'] == 'WELLNESS' ) | (df['category'] == 'ENTERTAINMENT') | (df['category'] == 'TRAVEL') | \\\n",
    "             (df['category'] == 'STYLE & BEAUTY') | (df['category'] == 'PARENTING' ) | (df['category'] == 'HEALTHY LIVING') | (df['category'] == 'QUEER VOICES') | \\\n",
    "             (df['category'] == 'FOOD & DRINK') | (df['category'] == 'BUSINESS' ) | (df['category'] == 'COMEDY') | (df['category'] == 'SPORTS') | (df['category'] == 'BLACK VOICES')  | \\\n",
    "             (df['category'] == 'HOME & LIVING' ) | (df['category'] == 'PARENTS') | (df['category'] == 'THE WORLDPOST') | (df['category'] == 'WEDDINGS') | (df['category'] == 'WOMEN') \n",
    "#              (df['category'] == 'CRIME') | (df['category'] == 'IMPACT') | (df['category'] == 'DIVORCE') | (df['category'] == 'WORLD NEWS') | (df['category'] == 'MEDIA') | (df['category'] == 'WEIRD NEWS') | (df['category'] == 'GREEN') | \\\n",
    "#              (df['category'] == 'TECH') \n",
    "df = df[categories_keep]"
   ]
  },
  {
   "cell_type": "code",
   "execution_count": 21,
   "id": "4faaad3a",
   "metadata": {},
   "outputs": [
    {
     "data": {
      "text/plain": [
       "POLITICS          32425\n",
       "WELLNESS          17938\n",
       "ENTERTAINMENT     14772\n",
       "STYLE & BEAUTY     9665\n",
       "TRAVEL             9418\n",
       "PARENTING          8762\n",
       "FOOD & DRINK       6331\n",
       "QUEER VOICES       5601\n",
       "HEALTHY LIVING     5264\n",
       "BUSINESS           5130\n",
       "COMEDY             4642\n",
       "SPORTS             4414\n",
       "HOME & LIVING      4282\n",
       "BLACK VOICES       4174\n",
       "THE WORLDPOST      3664\n",
       "WEDDINGS           3653\n",
       "PARENTS            3516\n",
       "WOMEN              3136\n",
       "Name: category, dtype: int64"
      ]
     },
     "execution_count": 21,
     "metadata": {},
     "output_type": "execute_result"
    }
   ],
   "source": [
    "category = df['category'].value_counts()\n",
    "category"
   ]
  },
  {
   "cell_type": "code",
   "execution_count": 22,
   "id": "22dbff3a",
   "metadata": {},
   "outputs": [
    {
     "data": {
      "text/plain": [
       "POLITICS          3000\n",
       "WELLNESS          3000\n",
       "ENTERTAINMENT     3000\n",
       "TRAVEL            3000\n",
       "STYLE & BEAUTY    3000\n",
       "PARENTING         3000\n",
       "HEALTHY LIVING    3000\n",
       "QUEER VOICES      3000\n",
       "FOOD & DRINK      3000\n",
       "BUSINESS          3000\n",
       "COMEDY            3000\n",
       "PARENTS           3000\n",
       "SPORTS            3000\n",
       "HOME & LIVING     3000\n",
       "BLACK VOICES      3000\n",
       "Name: category, dtype: int64"
      ]
     },
     "execution_count": 22,
     "metadata": {},
     "output_type": "execute_result"
    }
   ],
   "source": [
    "data_1 = df[df['category'] == 'POLITICS']\n",
    "data_1 = resample(data_1, replace=False, n_samples=3000, random_state=123)\n",
    "data_2 = df[df['category'] == 'WELLNESS']\n",
    "data_2 = resample(data_2, replace=False, n_samples=3000, random_state=123)\n",
    "data_3 = df[df['category'] == 'ENTERTAINMENT']\n",
    "data_3 = resample(data_3, replace=False, n_samples=3000, random_state=123)\n",
    "data_4 = df[df['category'] == 'TRAVEL']\n",
    "data_4 = resample(data_4, replace=False, n_samples=3000, random_state=123)\n",
    "data_5 = df[df['category'] == 'STYLE & BEAUTY']\n",
    "data_5 = resample(data_5, replace=False, n_samples=3000, random_state=123)\n",
    "data_6 = df[df['category'] == 'PARENTING']\n",
    "data_6 = resample(data_6, replace=False, n_samples=3000, random_state=123)\n",
    "data_7 = df[df['category'] == 'HEALTHY LIVING']\n",
    "data_7 = resample(data_7, replace=False, n_samples=3000, random_state=123)\n",
    "data_8 = df[df['category'] == 'QUEER VOICES']\n",
    "data_8 = resample(data_8, replace=False, n_samples=3000, random_state=123)\n",
    "data_9 = df[df['category'] == 'FOOD & DRINK']\n",
    "data_9 = resample(data_9, replace=False, n_samples=3000, random_state=123)\n",
    "data_10 = df[df['category'] == 'BUSINESS']\n",
    "data_10 = resample(data_10, replace=False, n_samples=3000, random_state=123)\n",
    "data_11 = df[df['category'] == 'COMEDY']\n",
    "data_11 = resample(data_11, replace=False, n_samples=3000, random_state=123)\n",
    "data_12= df[df['category'] == 'PARENTS']\n",
    "data_12 = resample(data_12, replace=False, n_samples=3000, random_state=123)\n",
    "data_13= df[df['category'] == 'SPORTS']\n",
    "data_13 = resample(data_13, replace=False, n_samples=3000, random_state=123)\n",
    "data_14 = df[df['category'] == 'HOME & LIVING']\n",
    "data_14 = resample(data_14, replace=False, n_samples=3000, random_state=123)\n",
    "data_15 = df[df['category'] == 'BLACK VOICES']\n",
    "data_15 = resample(data_15, replace=False, n_samples=3000, random_state=123)\n",
    "\n",
    "category_list = [data_1 , data_2 , data_3 , data_4 ,data_5 , data_6 , data_7, data_8 , data_9 , data_10, data_11 , data_12 , data_13, data_14 ,data_15]\n",
    "\n",
    "df = pd.concat(category_list)\n",
    "df['category'].value_counts()"
   ]
  },
  {
   "cell_type": "code",
   "execution_count": 23,
   "id": "c8689777",
   "metadata": {},
   "outputs": [],
   "source": [
    "# Combining columns headline and short_description\n",
    "\n",
    "df['text'] = df['headline'] + '-' + df['short_description']"
   ]
  },
  {
   "cell_type": "code",
   "execution_count": 24,
   "id": "022ee9a0",
   "metadata": {},
   "outputs": [
    {
     "data": {
      "text/html": [
       "<div>\n",
       "<style scoped>\n",
       "    .dataframe tbody tr th:only-of-type {\n",
       "        vertical-align: middle;\n",
       "    }\n",
       "\n",
       "    .dataframe tbody tr th {\n",
       "        vertical-align: top;\n",
       "    }\n",
       "\n",
       "    .dataframe thead th {\n",
       "        text-align: right;\n",
       "    }\n",
       "</style>\n",
       "<table border=\"1\" class=\"dataframe\">\n",
       "  <thead>\n",
       "    <tr style=\"text-align: right;\">\n",
       "      <th></th>\n",
       "      <th>headline</th>\n",
       "      <th>category</th>\n",
       "      <th>short_description</th>\n",
       "      <th>authors</th>\n",
       "      <th>text</th>\n",
       "    </tr>\n",
       "  </thead>\n",
       "  <tbody>\n",
       "    <tr>\n",
       "      <th>64888</th>\n",
       "      <td>Iowa Senator Doesn’t Want Anyone Forcing Soldi...</td>\n",
       "      <td>POLITICS</td>\n",
       "      <td>Joni Ernst considers lunch a matter of nationa...</td>\n",
       "      <td>Jacquie Lee</td>\n",
       "      <td>Iowa Senator Doesn’t Want Anyone Forcing Soldi...</td>\n",
       "    </tr>\n",
       "    <tr>\n",
       "      <th>89468</th>\n",
       "      <td>Heroin Epidemic Stars In Conservative Ad Again...</td>\n",
       "      <td>POLITICS</td>\n",
       "      <td>Union president says he's \"literally disgusted...</td>\n",
       "      <td>Jason Cherkis</td>\n",
       "      <td>Heroin Epidemic Stars In Conservative Ad Again...</td>\n",
       "    </tr>\n",
       "    <tr>\n",
       "      <th>61502</th>\n",
       "      <td>Trump Eyes Fracking Mogul Harold Hamm As Energ...</td>\n",
       "      <td>POLITICS</td>\n",
       "      <td>Hamm would add to Trump's roster of fossil fue...</td>\n",
       "      <td></td>\n",
       "      <td>Trump Eyes Fracking Mogul Harold Hamm As Energ...</td>\n",
       "    </tr>\n",
       "    <tr>\n",
       "      <th>42004</th>\n",
       "      <td>Hands Off Medicare And Medicaid Tour: Find Thr...</td>\n",
       "      <td>POLITICS</td>\n",
       "      <td>Video by Portland Press Herald Nobody voted to...</td>\n",
       "      <td>Alex Lawson and Jon \"Bowzer\" Bauman, Contributors</td>\n",
       "      <td>Hands Off Medicare And Medicaid Tour: Find Thr...</td>\n",
       "    </tr>\n",
       "    <tr>\n",
       "      <th>1978</th>\n",
       "      <td>Boxer-Senator Manny Pacquiao To Run For Philip...</td>\n",
       "      <td>POLITICS</td>\n",
       "      <td>“I am a fighter, and I will always be a fighte...</td>\n",
       "      <td></td>\n",
       "      <td>Boxer-Senator Manny Pacquiao To Run For Philip...</td>\n",
       "    </tr>\n",
       "  </tbody>\n",
       "</table>\n",
       "</div>"
      ],
      "text/plain": [
       "                                                headline  category  \\\n",
       "64888  Iowa Senator Doesn’t Want Anyone Forcing Soldi...  POLITICS   \n",
       "89468  Heroin Epidemic Stars In Conservative Ad Again...  POLITICS   \n",
       "61502  Trump Eyes Fracking Mogul Harold Hamm As Energ...  POLITICS   \n",
       "42004  Hands Off Medicare And Medicaid Tour: Find Thr...  POLITICS   \n",
       "1978   Boxer-Senator Manny Pacquiao To Run For Philip...  POLITICS   \n",
       "\n",
       "                                       short_description  \\\n",
       "64888  Joni Ernst considers lunch a matter of nationa...   \n",
       "89468  Union president says he's \"literally disgusted...   \n",
       "61502  Hamm would add to Trump's roster of fossil fue...   \n",
       "42004  Video by Portland Press Herald Nobody voted to...   \n",
       "1978   “I am a fighter, and I will always be a fighte...   \n",
       "\n",
       "                                                 authors  \\\n",
       "64888                                        Jacquie Lee   \n",
       "89468                                      Jason Cherkis   \n",
       "61502                                                      \n",
       "42004  Alex Lawson and Jon \"Bowzer\" Bauman, Contributors   \n",
       "1978                                                       \n",
       "\n",
       "                                                    text  \n",
       "64888  Iowa Senator Doesn’t Want Anyone Forcing Soldi...  \n",
       "89468  Heroin Epidemic Stars In Conservative Ad Again...  \n",
       "61502  Trump Eyes Fracking Mogul Harold Hamm As Energ...  \n",
       "42004  Hands Off Medicare And Medicaid Tour: Find Thr...  \n",
       "1978   Boxer-Senator Manny Pacquiao To Run For Philip...  "
      ]
     },
     "execution_count": 24,
     "metadata": {},
     "output_type": "execute_result"
    }
   ],
   "source": [
    "df.head()"
   ]
  },
  {
   "cell_type": "code",
   "execution_count": 25,
   "id": "8f6cd5e3",
   "metadata": {},
   "outputs": [],
   "source": [
    "# Drop the unwanted columns\n",
    "\n",
    "df.drop(['authors','headline','short_description'],axis=1,inplace=True)"
   ]
  },
  {
   "cell_type": "code",
   "execution_count": 26,
   "id": "350add47",
   "metadata": {},
   "outputs": [
    {
     "data": {
      "text/html": [
       "<div>\n",
       "<style scoped>\n",
       "    .dataframe tbody tr th:only-of-type {\n",
       "        vertical-align: middle;\n",
       "    }\n",
       "\n",
       "    .dataframe tbody tr th {\n",
       "        vertical-align: top;\n",
       "    }\n",
       "\n",
       "    .dataframe thead th {\n",
       "        text-align: right;\n",
       "    }\n",
       "</style>\n",
       "<table border=\"1\" class=\"dataframe\">\n",
       "  <thead>\n",
       "    <tr style=\"text-align: right;\">\n",
       "      <th></th>\n",
       "      <th>category</th>\n",
       "      <th>text</th>\n",
       "    </tr>\n",
       "  </thead>\n",
       "  <tbody>\n",
       "    <tr>\n",
       "      <th>64888</th>\n",
       "      <td>POLITICS</td>\n",
       "      <td>Iowa Senator Doesn’t Want Anyone Forcing Soldi...</td>\n",
       "    </tr>\n",
       "    <tr>\n",
       "      <th>89468</th>\n",
       "      <td>POLITICS</td>\n",
       "      <td>Heroin Epidemic Stars In Conservative Ad Again...</td>\n",
       "    </tr>\n",
       "    <tr>\n",
       "      <th>61502</th>\n",
       "      <td>POLITICS</td>\n",
       "      <td>Trump Eyes Fracking Mogul Harold Hamm As Energ...</td>\n",
       "    </tr>\n",
       "    <tr>\n",
       "      <th>42004</th>\n",
       "      <td>POLITICS</td>\n",
       "      <td>Hands Off Medicare And Medicaid Tour: Find Thr...</td>\n",
       "    </tr>\n",
       "    <tr>\n",
       "      <th>1978</th>\n",
       "      <td>POLITICS</td>\n",
       "      <td>Boxer-Senator Manny Pacquiao To Run For Philip...</td>\n",
       "    </tr>\n",
       "  </tbody>\n",
       "</table>\n",
       "</div>"
      ],
      "text/plain": [
       "       category                                               text\n",
       "64888  POLITICS  Iowa Senator Doesn’t Want Anyone Forcing Soldi...\n",
       "89468  POLITICS  Heroin Epidemic Stars In Conservative Ad Again...\n",
       "61502  POLITICS  Trump Eyes Fracking Mogul Harold Hamm As Energ...\n",
       "42004  POLITICS  Hands Off Medicare And Medicaid Tour: Find Thr...\n",
       "1978   POLITICS  Boxer-Senator Manny Pacquiao To Run For Philip..."
      ]
     },
     "execution_count": 26,
     "metadata": {},
     "output_type": "execute_result"
    }
   ],
   "source": [
    "df.head()"
   ]
  },
  {
   "cell_type": "code",
   "execution_count": 27,
   "id": "0ef34082",
   "metadata": {},
   "outputs": [
    {
     "data": {
      "text/plain": [
       "(45000, 2)"
      ]
     },
     "execution_count": 27,
     "metadata": {},
     "output_type": "execute_result"
    }
   ],
   "source": [
    "df.shape"
   ]
  },
  {
   "cell_type": "code",
   "execution_count": 28,
   "id": "96399f15",
   "metadata": {},
   "outputs": [],
   "source": [
    "# clean the text data using regex and data cleaning function\n",
    "def data_cleaning(text):\n",
    "    whitespace = re.compile(r\"\\s+\")\n",
    "    user = re.compile(r\"(?i)@[a-z0-9_]+\")\n",
    "    text = whitespace.sub(' ', text)\n",
    "    text = user.sub('', text)\n",
    "    text = re.sub(r\"\\[[^()]*\\]\",\"\", text)\n",
    "    text = re.sub(\"\\d+\", \"\", text)\n",
    "    text = re.sub(r'[^\\w\\s]','',text)\n",
    "    text = re.sub(r\"(?:@\\S*|#\\S*|http(?=.*://)\\S*)\", \"\", text)\n",
    "    text = text.lower()\n",
    "    \n",
    "    # removing stop-words\n",
    "    text = [word for word in text.split() if word not in list(stopwords.words('english'))]\n",
    "    \n",
    "    # word lemmatization\n",
    "    sentence = []\n",
    "    for word in text:\n",
    "        lemmatizer = WordNetLemmatizer()\n",
    "        sentence.append(lemmatizer.lemmatize(word,'v'))\n",
    "        \n",
    "    return ' '.join(sentence) "
   ]
  },
  {
   "cell_type": "code",
   "execution_count": 29,
   "id": "e931a0fd",
   "metadata": {},
   "outputs": [
    {
     "name": "stderr",
     "output_type": "stream",
     "text": [
      "[nltk_data] Downloading package wordnet to\n",
      "[nltk_data]     C:\\Users\\win10\\AppData\\Roaming\\nltk_data...\n",
      "[nltk_data]   Package wordnet is already up-to-date!\n"
     ]
    },
    {
     "data": {
      "text/plain": [
       "True"
      ]
     },
     "execution_count": 29,
     "metadata": {},
     "output_type": "execute_result"
    }
   ],
   "source": [
    "import nltk\n",
    "nltk.download('wordnet')"
   ]
  },
  {
   "cell_type": "code",
   "execution_count": 30,
   "id": "22190a80",
   "metadata": {},
   "outputs": [
    {
     "name": "stderr",
     "output_type": "stream",
     "text": [
      "[nltk_data] Downloading package omw-1.4 to\n",
      "[nltk_data]     C:\\Users\\win10\\AppData\\Roaming\\nltk_data...\n",
      "[nltk_data]   Package omw-1.4 is already up-to-date!\n"
     ]
    },
    {
     "data": {
      "text/plain": [
       "True"
      ]
     },
     "execution_count": 30,
     "metadata": {},
     "output_type": "execute_result"
    }
   ],
   "source": [
    "import nltk\n",
    "nltk.download('omw-1.4')"
   ]
  },
  {
   "cell_type": "code",
   "execution_count": 30,
   "id": "a1e47ce5",
   "metadata": {},
   "outputs": [
    {
     "name": "stdout",
     "output_type": "stream",
     "text": [
      "Text before pre-processing:\n",
      " Boxer-Senator Manny Pacquiao To Run For Philippine President-“I am a fighter, and I will always be a fighter inside and outside the ring,” said the 42-year-old boxing icon.\n",
      "\n",
      " Text after pre-processing:\n",
      " boxersenator manny pacquiao run philippine presidenti fighter always fighter inside outside ring say yearold box icon\n"
     ]
    }
   ],
   "source": [
    "# checking result of data_cleaning()\n",
    "\n",
    "print(\"Text before pre-processing:\\n\",df['text'][1978])\n",
    "print(\"\\n Text after pre-processing:\\n\",data_cleaning(df['text'][1978]))"
   ]
  },
  {
   "cell_type": "code",
   "execution_count": 31,
   "id": "5b786af4",
   "metadata": {},
   "outputs": [],
   "source": [
    "# Apply data_cleaning function to column 'text'\n",
    "\n",
    "df['text'] = df['text'].apply(data_cleaning)"
   ]
  },
  {
   "cell_type": "code",
   "execution_count": 32,
   "id": "b7577ff7",
   "metadata": {},
   "outputs": [
    {
     "data": {
      "text/html": [
       "<div>\n",
       "<style scoped>\n",
       "    .dataframe tbody tr th:only-of-type {\n",
       "        vertical-align: middle;\n",
       "    }\n",
       "\n",
       "    .dataframe tbody tr th {\n",
       "        vertical-align: top;\n",
       "    }\n",
       "\n",
       "    .dataframe thead th {\n",
       "        text-align: right;\n",
       "    }\n",
       "</style>\n",
       "<table border=\"1\" class=\"dataframe\">\n",
       "  <thead>\n",
       "    <tr style=\"text-align: right;\">\n",
       "      <th></th>\n",
       "      <th>category</th>\n",
       "      <th>text</th>\n",
       "    </tr>\n",
       "  </thead>\n",
       "  <tbody>\n",
       "    <tr>\n",
       "      <th>64888</th>\n",
       "      <td>POLITICS</td>\n",
       "      <td>iowa senator doesnt want anyone force soldier ...</td>\n",
       "    </tr>\n",
       "    <tr>\n",
       "      <th>89468</th>\n",
       "      <td>POLITICS</td>\n",
       "      <td>heroin epidemic star conservative ad new hamps...</td>\n",
       "    </tr>\n",
       "    <tr>\n",
       "      <th>61502</th>\n",
       "      <td>POLITICS</td>\n",
       "      <td>trump eye fracking mogul harold hamm energy se...</td>\n",
       "    </tr>\n",
       "    <tr>\n",
       "      <th>42004</th>\n",
       "      <td>POLITICS</td>\n",
       "      <td>hand medicare medicaid tour find three republi...</td>\n",
       "    </tr>\n",
       "    <tr>\n",
       "      <th>1978</th>\n",
       "      <td>POLITICS</td>\n",
       "      <td>boxersenator manny pacquiao run philippine pre...</td>\n",
       "    </tr>\n",
       "  </tbody>\n",
       "</table>\n",
       "</div>"
      ],
      "text/plain": [
       "       category                                               text\n",
       "64888  POLITICS  iowa senator doesnt want anyone force soldier ...\n",
       "89468  POLITICS  heroin epidemic star conservative ad new hamps...\n",
       "61502  POLITICS  trump eye fracking mogul harold hamm energy se...\n",
       "42004  POLITICS  hand medicare medicaid tour find three republi...\n",
       "1978   POLITICS  boxersenator manny pacquiao run philippine pre..."
      ]
     },
     "execution_count": 32,
     "metadata": {},
     "output_type": "execute_result"
    }
   ],
   "source": [
    "df.head()"
   ]
  },
  {
   "cell_type": "code",
   "execution_count": 33,
   "id": "a9345a1d",
   "metadata": {},
   "outputs": [],
   "source": [
    "#train and test split\n",
    "\n",
    "X = df['text']\n",
    "\n",
    "#label encoding the target\n",
    "\n",
    "label = LabelEncoder()\n",
    "y = label.fit_transform(df['category'])\n",
    "\n",
    "#split the train and test dataset\n",
    "\n",
    "X_train,X_test,y_train,y_test = train_test_split(X,y,test_size = 0.1,random_state=2)"
   ]
  },
  {
   "cell_type": "code",
   "execution_count": 34,
   "id": "8b90627b",
   "metadata": {},
   "outputs": [
    {
     "data": {
      "text/plain": [
       "array([9, 9, 9, ..., 0, 0, 0])"
      ]
     },
     "execution_count": 34,
     "metadata": {},
     "output_type": "execute_result"
    }
   ],
   "source": [
    "y"
   ]
  },
  {
   "cell_type": "code",
   "execution_count": 35,
   "id": "fce81554",
   "metadata": {},
   "outputs": [
    {
     "name": "stdout",
     "output_type": "stream",
     "text": [
      "(40500,)\n",
      "(4500,)\n",
      "(40500,)\n",
      "(4500,)\n"
     ]
    }
   ],
   "source": [
    "print(X_train.shape)\n",
    "print(X_test.shape)\n",
    "print(y_train.shape)\n",
    "print(y_test.shape)"
   ]
  },
  {
   "cell_type": "code",
   "execution_count": 36,
   "id": "949895ad",
   "metadata": {},
   "outputs": [
    {
     "data": {
      "text/plain": [
       "(40500, 5000)"
      ]
     },
     "execution_count": 36,
     "metadata": {},
     "output_type": "execute_result"
    }
   ],
   "source": [
    "#tfidf vectorizer\n",
    "\n",
    "vecto =  TfidfVectorizer(stop_words='english',max_df = 0.99,min_df=10,\n",
    "                                   ngram_range=(1, 2),lowercase=True, max_features=5000)\n",
    "vecto = vecto.fit(X_train)\n",
    "\n",
    "X_train = vecto.transform(X_train).toarray()\n",
    "X_test = vecto.transform(X_test).toarray()\n",
    "X_train.shape"
   ]
  },
  {
   "cell_type": "code",
   "execution_count": 37,
   "id": "0e2becb2",
   "metadata": {},
   "outputs": [
    {
     "name": "stdout",
     "output_type": "stream",
     "text": [
      "['aaron', 'abandon', 'abc', 'abcs', 'ability', 'able', 'abortion', 'abroad', 'absolute', 'absolutely', 'absurd', 'abundance', 'abuse', 'abusive', 'academy', 'academy award', 'accent', 'accept', 'acceptable', 'acceptance', 'access', 'accessories', 'accessory', 'accident', 'accidentally', 'accompany', 'accomplish', 'accord', 'account', 'accurate', 'accuse', 'achieve', 'achievement', 'acknowledge', 'acquire', 'act', 'act like', 'action', 'active', 'activism', 'activist', 'activists', 'activities', 'activity', 'actor', 'actors', 'actress', 'actual', 'actually', 'acupuncture', 'ad', 'adam', 'adams', 'adapt', 'add', 'addict', 'addiction', 'addition', 'additional', 'address', 'adele', 'adjust', 'administration', 'administrations', 'admire', 'admit', 'adopt', 'adoption', 'adorable', 'ads', 'adult', 'adulthood', 'adults', 'advance', 'advantage', 'adventure', 'advertise', 'advice', 'advise', 'advocacy', 'advocate', 'affair', 'affect', 'afford', 'affordable', 'affordable care', 'afghanistan', 'afraid', 'africa', 'african', 'african american', 'africanamerican', 'aftermath', 'afternoon', 'age', 'agency', 'agenda', 'agent', 'agents', 'aggressive', 'ago', 'agree', 'agreement', 'ahead', 'aid', 'aim', 'aint', 'air', 'airline', 'airlines', 'airplane', 'airport', 'airports', 'aka', 'al', 'alabama', 'alarm', 'alaska', 'album', 'alcohol', 'alec', 'alec baldwin', 'alert', 'alex', 'alexander', 'ali', 'alice', 'alicia', 'alien', 'alike', 'alive', 'allegations', 'allege', 'allegedly', 'allen', 'allergy', 'allow', 'allstar', 'alltime', 'ally', 'alongside', 'alter', 'alternative', 'alternatives', 'alzheimers', 'amanda', 'amaze', 'amazon', 'amber', 'amendment', 'america', 'american', 'american idol', 'americans', 'americas', 'americas best', 'amid', 'amy', 'amy schumer', 'analysis', 'analyze', 'anchor', 'ancient', 'anderson', 'andor', 'andrew', 'andy', 'angel', 'angela', 'angeles', 'angelina', 'anger', 'angry', 'animal', 'animals', 'animate', 'aniston', 'ann', 'anna', 'anne', 'annie', 'anniversary', 'announce', 'announcement', 'annoy', 'annual', 'anonymous', 'answer', 'answer question', 'anthem', 'anthony', 'antibiotics', 'anticipate', 'antigay', 'antilgbt', 'antilgbtq', 'antique', 'anxiety', 'anxious', 'anymore', 'ap', 'apart', 'apartment', 'apnea', 'apologize', 'apology', 'app', 'apparent', 'apparently', 'appeal', 'appear', 'appearance', 'applaud', 'apple', 'apples', 'apply', 'appraise', 'appreciate', 'appreciation', 'approach', 'appropriate', 'approve', 'apps', 'april', 'architect', 'architecture', 'archive', 'area', 'areas', 'arena', 'arent', 'argue', 'argument', 'arianna', 'arizona', 'arkansas', 'arm', 'army', 'arrest', 'arrive', 'art', 'article', 'artificial', 'artist', 'artists', 'arts', 'ashamed', 'ashley', 'asia', 'asian', 'aside', 'ask', 'ask question', 'asleep', 'aspect', 'aspects', 'aspire', 'assault', 'assistant', 'associate', 'association', 'assume', 'athlete', 'athletes', 'athletic', 'atlanta', 'atlantic', 'attack', 'attempt', 'attend', 'attention', 'attitude', 'attitudes', 'attorney', 'attorney general', 'attract', 'attractions', 'audience', 'audiences', 'august', 'austin', 'australia', 'australian', 'authentic', 'author', 'authorities', 'authority', 'autism', 'autistic', 'autumn', 'ava', 'available', 'average', 'avoid', 'await', 'awake', 'awaken', 'award', 'aware', 'awareness', 'away', 'awesome', 'awful', 'awkward', 'baby', 'baby girl', 'bachelor', 'background', 'backlash', 'backpack', 'backstage', 'backtoschool', 'backyard', 'bacon', 'bacteria', 'bad', 'bad news', 'bag', 'bake', 'baker', 'balance', 'baldwin', 'ball', 'baltimore', 'ban', 'banana', 'band', 'bang', 'bank', 'bankruptcy', 'bannon', 'bar', 'barack', 'barack obama', 'barbara', 'barbecue', 'barbie', 'barcelona', 'bare', 'barely', 'barriers', 'base', 'baseball', 'bash', 'basic', 'basically', 'basis', 'basket', 'basketball', 'bat', 'bath', 'bathroom', 'bathrooms', 'batman', 'battle', 'bay', 'bb', 'bbc', 'bbq', 'beach', 'bean', 'bear', 'beard', 'beast', 'beat', 'beautiful', 'beauty', 'beckham', 'bed', 'bedroom', 'bedtime', 'bee', 'beef', 'beer', 'beg', 'begin', 'behavior', 'behaviors', 'behold', 'beijing', 'belief', 'beliefs', 'believe', 'bell', 'belly', 'belong', 'beloved', 'belt', 'ben', 'bench', 'bend', 'benefit', 'berkeley', 'berkus', 'bernie', 'bernie sanders', 'berry', 'best', 'best friend', 'best late', 'best place', 'best style', 'best thing', 'best way', 'best worst', 'bestdressed', 'bet', 'better', 'better way', 'betty', 'beverly', 'beverly hill', 'beware', 'beyonce', 'beyonces', 'beyoncé', 'bias', 'bid', 'biden', 'bieber', 'big', 'bigger', 'biggest', 'bike', 'bikini', 'biles', 'billion', 'billionaire', 'billy', 'bind', 'binge', 'biopic', 'bird', 'birth', 'birthday', 'birthday party', 'bisexual', 'bite', 'bizarre', 'black', 'black friday', 'black history', 'black live', 'black man', 'black men', 'black panther', 'black people', 'black voice', 'black white', 'black woman', 'black women', 'blake', 'blame', 'blanket', 'blast', 'blend', 'bless', 'blind', 'bliss', 'block', 'blog', 'blogger', 'bloggers', 'blonde', 'blood', 'bloody', 'bloom', 'blossom', 'blow', 'blue', 'board', 'boast', 'boat', 'bob', 'body', 'boil', 'bold', 'bomb', 'bond', 'bone', 'boob', 'book', 'boom', 'boost', 'boot', 'booze', 'border', 'bore', 'boss', 'boston', 'bother', 'bottle', 'boundaries', 'bow', 'bowl', 'box', 'box office', 'boy', 'boy scout', 'boycott', 'boyfriend', 'boys', 'bra', 'brad', 'brady', 'brain', 'branch', 'brand', 'brand new', 'brave', 'brazil', 'brazilian', 'breach', 'bread', 'break', 'breakfast', 'breast', 'breast cancer', 'breastfeed', 'breath', 'breathe', 'breathtaking', 'brew', 'brexit', 'brian', 'bridge', 'brief', 'bright', 'brighten', 'brilliant', 'bring', 'british', 'britney', 'britney spear', 'broadcast', 'broadway', 'brook', 'brooklyn', 'brother', 'brothers', 'brown', 'bruce', 'brunch', 'brush', 'brutal', 'brutality', 'bryan', 'bryant', 'bubble', 'buck', 'bucket', 'bud', 'budget', 'buffalo', 'bug', 'build', 'bull', 'bully', 'bump', 'bunch', 'bunny', 'burden', 'burger', 'burgers', 'burn', 'burst', 'bury', 'bus', 'bush', 'business', 'business qa', 'businesses', 'bust', 'busy', 'butt', 'butter', 'buy', 'buyer', 'buzz', 'cabin', 'cabinet', 'cable', 'cage', 'caitlyn', 'caitlyn jenner', 'cake', 'calendar', 'california', 'californias', 'calm', 'calories', 'calvin', 'cam', 'camera', 'cameron', 'camp', 'campaign', 'campus', 'canada', 'canadian', 'cancel', 'cancer', 'cancers', 'candid', 'candidate', 'candidates', 'candle', 'candy', 'cannes', 'cap', 'capable', 'capacity', 'capital', 'capitol', 'captain', 'capture', 'car', 'car seat', 'card', 'care', 'care act', 'career', 'careful', 'carefully', 'caregivers', 'caribbean', 'carol', 'carolina', 'carpet', 'carrie', 'carry', 'cars', 'carson', 'carter', 'cartoon', 'case', 'cash', 'cast', 'castle', 'casual', 'cat', 'catch', 'category', 'catholic', 'caucus', 'cause', 'cave', 'cbs', 'ceiling', 'celeb', 'celebrate', 'celebration', 'celebrations', 'celebrities', 'celebrity', 'celebs', 'cell', 'cell phone', 'center', 'central', 'centuries', 'century', 'ceo', 'ceos', 'ceremony', 'certain', 'certainly', 'chain', 'chair', 'chairman', 'challenge', 'champ', 'champagne', 'champion', 'championship', 'chance', 'chanel', 'change', 'change life', 'change way', 'channel', 'chaos', 'chapter', 'character', 'charge', 'charity', 'charles', 'charleston', 'charlie', 'charlotte', 'charlottesville', 'charm', 'chart', 'chase', 'chat', 'cheap', 'cheaper', 'cheat', 'check', 'check great', 'check huffpost', 'check look', 'check stylelist', 'checklist', 'cheer', 'cheese', 'chef', 'chefs', 'chelsea', 'cherish', 'chest', 'chew', 'chic', 'chicago', 'chicken', 'chief', 'child', 'childhood', 'children', 'childrens', 'childrens book', 'childs', 'chill', 'china', 'chinese', 'chip', 'chipotle', 'chocolate', 'choice', 'choices', 'choose', 'chop', 'chris', 'chris christie', 'chrissy', 'chrissy teigen', 'christian', 'christie', 'christina', 'christmas', 'christopher', 'chronic', 'chronicle', 'chuck', 'church', 'cinema', 'circle', 'circumstances', 'cite', 'cities', 'citizens', 'city', 'citys', 'civil', 'civil right', 'claim', 'claire', 'clark', 'class', 'classic', 'classroom', 'clean', 'clear', 'clearly', 'cleveland', 'clever', 'click', 'click slideshow', 'clients', 'cliff', 'climate', 'climate change', 'climb', 'clinical', 'clinton', 'clintons', 'clip', 'clip week', 'clock', 'close', 'closely', 'closer', 'closet', 'clothe', 'cloud', 'club', 'clue', 'clutter', 'cnn', 'coach', 'coalition', 'coast', 'coastal', 'coat', 'cocktail', 'cocktails', 'coconut', 'cod', 'code', 'coffee', 'cofounder', 'cognitive', 'cohen', 'coin', 'coke', 'colbert', 'colberts', 'cold', 'colin', 'colin kaepernick', 'collaboration', 'collapse', 'colleagues', 'collect', 'collection', 'collections', 'collective', 'college', 'college football', 'colleges', 'collins', 'color', 'colorado', 'colorful', 'colts', 'column', 'combat', 'combination', 'combine', 'come', 'come home', 'come mind', 'come true', 'comeback', 'comedian', 'comedians', 'comedy', 'comfort', 'comfortable', 'comic', 'comics', 'comment', 'commercial', 'commercials', 'commission', 'commissioner', 'commit', 'commitment', 'committee', 'common', 'commonly', 'communicate', 'communication', 'communications', 'communities', 'community', 'company', 'company say', 'compare', 'compassion', 'compel', 'compete', 'competition', 'competitive', 'complain', 'complete', 'completely', 'complex', 'complicate', 'compliment', 'compound', 'compromise', 'computer', 'conan', 'concept', 'concern', 'concert', 'concrete', 'condemn', 'condition', 'conduct', 'confederate', 'conference', 'confessions', 'confidence', 'confident', 'confirm', 'conflict', 'confront', 'confuse', 'confusion', 'congress', 'congressional', 'congressman', 'connect', 'connect life', 'connecticut', 'connection', 'connections', 'conquer', 'conscious', 'consequences', 'conservative', 'conservatives', 'consider', 'consistent', 'conspiracy', 'constant', 'constantly', 'constantly connect', 'consume', 'consumer', 'consumers', 'consumption', 'contact', 'contain', 'contemporary', 'content', 'contest', 'context', 'continue', 'contract', 'contrast', 'contribute', 'control', 'controversial', 'controversy', 'convention', 'conventional', 'conversation', 'conversations', 'conversion', 'convert', 'convict', 'convince', 'cook', 'cookbook', 'cookie', 'cookies', 'cool', 'cooler', 'coolest', 'cooper', 'cop', 'cope', 'copy', 'corden', 'core', 'corn', 'corner', 'coronavirus', 'corporate', 'corporations', 'correct', 'correctly', 'cosby', 'cost', 'costume', 'couch', 'council', 'counsel', 'count', 'countless', 'countries', 'country', 'country live', 'countrys', 'county', 'couple', 'courage', 'course', 'course gps', 'court', 'court rule', 'courtesy', 'cousin', 'couture', 'cover', 'coverage', 'covid', 'cowboys', 'cox', 'cozy', 'crack', 'craft', 'craft craft', 'craft day', 'craig', 'craigslist', 'crash', 'crave', 'crazy', 'cream', 'creamy', 'create', 'create new', 'creation', 'creative', 'creativity', 'creator', 'credit', 'credit card', 'creepy', 'crew', 'crime', 'crimes', 'criminal', 'crisis', 'crisp', 'critical', 'criticism', 'criticize', 'critics', 'crop', 'cross', 'crowd', 'crown', 'crucial', 'cruel', 'cruise', 'cruise ship', 'crush', 'cruz', 'cub', 'cuff', 'cuisine', 'culinary', 'cultivate', 'cultural', 'culture', 'cup', 'cupcakes', 'curb', 'cure', 'curious', 'curl', 'current', 'currently', 'curry', 'curse', 'custom', 'customer', 'customers', 'cut', 'cute', 'cute kid', 'cutest', 'cycle', 'cyrus', 'dad', 'daddy', 'dads', 'daily', 'dakota', 'dallas', 'damage', 'damn', 'dan', 'dance', 'danger', 'dangerous', 'dangers', 'daniel', 'daniels', 'dare', 'dark', 'darkness', 'data', 'date', 'daughter', 'daughters', 'daunt', 'dave', 'david', 'davis', 'day', 'day day', 'day gift', 'day make', 'days', 'dc', 'dead', 'deadly', 'deal', 'dean', 'dear', 'death', 'deaths', 'debate', 'debt', 'debut', 'dec', 'decade', 'decades', 'december', 'decide', 'decision', 'decisions', 'declare', 'decline', 'decor', 'decorate', 'decorations', 'decrease', 'dedicate', 'deem', 'deep', 'deeper', 'deeply', 'defeat', 'defend', 'defense', 'deficit', 'define', 'definitely', 'definition', 'defy', 'degeneres', 'degree', 'degrees', 'del', 'delay', 'delete', 'delicious', 'delight', 'deliver', 'delivery', 'delta', 'demand', 'dementia', 'demi', 'democracy', 'democrat', 'democratic', 'democrats', 'demonstrate', 'denim', 'dennis', 'denver', 'deny', 'department', 'depend', 'depict', 'depress', 'depression', 'deprivation', 'derby', 'desert', 'deserve', 'design', 'designer', 'designers', 'desire', 'desk', 'desperate', 'desperately', 'despite', 'dessert', 'desserts', 'destination', 'destinations', 'destroy', 'determine', 'detroit', 'devastate', 'develop', 'development', 'device', 'devices', 'devil', 'devote', 'diabetes', 'diagnose', 'diagnosis', 'dialogue', 'diamond', 'diane', 'diaper', 'dick', 'didnt', 'didnt know', 'didnt think', 'didnt want', 'die', 'diego', 'diet', 'dietary', 'difference', 'differences', 'different', 'differently', 'difficult', 'dig', 'digital', 'dignity', 'din', 'din room', 'dinner', 'dip', 'direct', 'direction', 'directly', 'director', 'directors', 'dirty', 'disability', 'disagree', 'disappear', 'disappoint', 'disappointment', 'disaster', 'discipline', 'disconnect', 'discount', 'discover', 'discovery', 'discriminate', 'discrimination', 'discuss', 'discussion', 'disease', 'diseases', 'disgust', 'dish', 'dismiss', 'disney', 'disney world', 'disneys', 'disorder', 'display', 'dispute', 'disrupt', 'distance', 'distract', 'district', 'disturb', 'ditch', 'dive', 'diverse', 'diversity', 'divide', 'divine', 'divorce', 'diy', 'diy ideas', 'dj', 'dnc', 'doctor', 'document', 'documentary', 'dodgers', 'doesnt', 'doesnt make', 'doesnt matter', 'doesnt mean', 'doesnt want', 'dog', 'doll', 'dollar', 'dollars', 'domestic', 'domestic violence', 'dominate', 'donald', 'donald trump', 'donate', 'donations', 'dont', 'dont believe', 'dont care', 'dont feel', 'dont forget', 'dont know', 'dont let', 'dont like', 'dont need', 'dont really', 'dont think', 'dont want', 'door', 'doors', 'dope', 'dose', 'dot', 'double', 'doubt', 'downton', 'dozen', 'dozens', 'dr', 'draft', 'drag', 'drag queen', 'drag race', 'drain', 'drake', 'drama', 'dramatic', 'draw', 'dread', 'dream', 'dream come', 'dress', 'drill', 'drink', 'drive', 'driver', 'drivers', 'drop', 'drug', 'dry', 'duchess', 'dude', 'duke', 'dumb', 'dump', 'dunk', 'duo', 'dust', 'duty', 'duvernay', 'dwell', 'eager', 'eagle', 'ear', 'earlier', 'earlier year', 'early', 'earn', 'ears', 'earth', 'ease', 'easier', 'easiest', 'easily', 'east', 'easter', 'eastern', 'easy', 'easy ways', 'eat', 'eat disorder', 'ebay', 'ebay vintage', 'ebola', 'ecofriendly', 'economic', 'economy', 'ed', 'eddie', 'edge', 'edit', 'edition', 'editor', 'editors', 'educate', 'education', 'educational', 'effect', 'effective', 'effectively', 'effort', 'efforts', 'egg', 'ego', 'elect', 'election', 'elections', 'electronic', 'elegant', 'elementary', 'elements', 'elevate', 'elf', 'eliminate', 'elite', 'elizabeth', 'elle', 'ellen', 'ellen degeneres', 'elon', 'elon musk', 'elses', 'em', 'email', 'email homesubmissionscom', 'embarrass', 'embrace', 'emerge', 'emergency', 'emily', 'emma', 'emmy', 'emmys', 'emotion', 'emotional', 'emotionally', 'emotions', 'empathy', 'empire', 'employ', 'employee', 'employees', 'employment', 'empower', 'enable', 'encounter', 'encourage', 'end', 'endless', 'endorse', 'endure', 'energy', 'enforcement', 'engage', 'engagement', 'engineer', 'england', 'english', 'enhance', 'enjoy', 'enormous', 'ensure', 'enter', 'entertain', 'entertainment', 'entire', 'entirely', 'entrepreneur', 'entrepreneurs', 'entrepreneurship', 'environment', 'environmental', 'epic', 'epidemic', 'episode', 'episodes', 'equal', 'equality', 'equally', 'era', 'erase', 'eric', 'ers', 'escape', 'especially', 'espn', 'essay', 'essence', 'essential', 'essentially', 'essentials', 'establish', 'estate', 'estimate', 'etiquette', 'etsy', 'europe', 'european', 'europes', 'eve', 'event', 'events', 'eventually', 'everybody', 'everyday', 'everyones', 'evidence', 'evil', 'evolution', 'evolve', 'exact', 'exactly', 'examine', 'example', 'examples', 'excellent', 'exchange', 'excite', 'excitement', 'exclusive', 'excuse', 'executive', 'executives', 'exercise', 'exhaust', 'exhibit', 'exist', 'existence', 'exit', 'exotic', 'expand', 'expect', 'expectations', 'expensive', 'experience', 'experiment', 'expert', 'experts', 'experts say', 'explain', 'explanation', 'explode', 'explore', 'expose', 'exposure', 'express', 'extend', 'extra', 'extraordinary', 'extreme', 'extremely', 'eye', 'fabric', 'fabulous', 'face', 'facebook', 'facebook page', 'facebook pinterest', 'facebook tumblr', 'fact', 'factor', 'facts', 'fail', 'failure', 'fair', 'fairly', 'fairy', 'faith', 'fake', 'fall', 'fall love', 'fallon', 'fallons', 'false', 'fame', 'familiar', 'families', 'family', 'family friends', 'family members', 'familys', 'famous', 'fan', 'fancy', 'fantastic', 'fantasy', 'far', 'fare', 'farm', 'farmers', 'farmers market', 'fascinate', 'fashion', 'fashion week', 'fast', 'fast food', 'faster', 'fastest', 'fat', 'fatal', 'fatally', 'fate', 'father', 'father day', 'fatherhood', 'fatigue', 'fault', 'favor', 'favorite', 'favorites', 'fbi', 'fda', 'fear', 'fearless', 'feast', 'feature', 'feb', 'february', 'federal', 'federal government', 'feds', 'fee', 'feed', 'feel', 'feel better', 'feel good', 'feel like', 'feet', 'fell', 'fellow', 'felt', 'felt like', 'female', 'feminist', 'ferguson', 'fertility', 'festival', 'festivals', 'festive', 'feud', 'fever', 'fewer', 'field', 'fierce', 'fifa', 'fifth', 'fight', 'figure', 'file', 'film', 'film festival', 'fin', 'final', 'finally', 'finance', 'financial', 'fine', 'finger', 'finish', 'firm', 'firstever', 'fiscal', 'fish', 'fisher', 'fit', 'fitness', 'fix', 'fix home', 'fk', 'flag', 'flash', 'flat', 'flavor', 'flaw', 'flea', 'flick', 'flight', 'flint', 'flip', 'float', 'flood', 'floor', 'floral', 'florida', 'flow', 'flower', 'floyd', 'flu', 'fly', 'flynn', 'focus', 'fold', 'folks', 'follow', 'followers', 'food', 'foodie', 'foods', 'fool', 'foot', 'footage', 'football', 'football player', 'force', 'ford', 'foreign', 'forest', 'forever', 'forget', 'forgive', 'form', 'formal', 'formula', 'fortunate', 'fortunately', 'fortune', 'forward', 'foster', 'foundation', 'founder', 'fourth', 'fourth july', 'fox', 'fox news', 'fragrance', 'frame', 'france', 'franchise', 'francisco', 'frank', 'franklin', 'fraud', 'freak', 'freddie', 'freddie gray', 'free', 'freedom', 'freeze', 'french', 'frequent', 'frequently', 'fresh', 'friday', 'friday night', 'friend', 'friendly', 'friends', 'friends family', 'friendship', 'frighten', 'fruit', 'frustrate', 'frustration', 'fry', 'fuel', 'fulfil', 'fulltime', 'fully', 'fun', 'function', 'fund', 'fundamental', 'funeral', 'funniest', 'funniest tweet', 'funny', 'furniture', 'future', 'gadgets', 'gaga', 'gain', 'gala', 'game', 'game throne', 'gap', 'garage', 'garden', 'garner', 'gary', 'gas', 'gate', 'gather', 'gay', 'gay bisexual', 'gay couple', 'gay man', 'gay marriage', 'gay men', 'gay people', 'gay right', 'gays', 'gear', 'gender', 'gene', 'general', 'generally', 'generation', 'generations', 'generous', 'genetic', 'genius', 'gentle', 'george', 'georgia', 'german', 'germany', 'gesture', 'getaway', 'ghost', 'giant', 'giants', 'gift', 'gift ideas', 'gig', 'gingerbread', 'girl', 'girlfriend', 'girls', 'gisele', 'glad', 'glam', 'glamorous', 'glamour', 'glass', 'glimpse', 'glitter', 'global', 'globe', 'globes', 'glorious', 'glory', 'glow', 'glutenfree', 'goal', 'goals', 'god', 'gods', 'gold', 'gold medal', 'golden', 'golden globes', 'golf', 'gomez', 'gonna', 'good', 'good bad', 'good news', 'good reason', 'good thing', 'good time', 'goodbye', 'goods', 'google', 'gop', 'gops', 'gorgeous', 'gotta', 'gov', 'government', 'governments', 'governor', 'gown', 'gps', 'gps guide', 'grab', 'grace', 'grade', 'graduate', 'graduation', 'graham', 'grain', 'grammy', 'grammys', 'grand', 'grandma', 'grandmother', 'grandparents', 'grant', 'grateful', 'gratitude', 'gray', 'great', 'great craft', 'great deal', 'great way', 'greater', 'greatest', 'greece', 'greek', 'green', 'greet', 'greg', 'grey', 'grief', 'grieve', 'griffin', 'grill', 'grind', 'grip', 'grocery', 'grocery store', 'groom', 'gross', 'ground', 'groundbreaking', 'group', 'grow', 'growth', 'guarantee', 'guard', 'guess', 'guest', 'guests', 'guide', 'guidelines', 'guilt', 'guilty', 'gun', 'gun control', 'gun violence', 'gut', 'guy', 'gwist', 'gwyneth', 'gym', 'gymnastics', 'habit', 'hack', 'hadnt', 'hail', 'hair', 'half', 'hall', 'hall fame', 'halle', 'halloween', 'halloween costume', 'halt', 'hamilton', 'hampshire', 'hand', 'handful', 'handle', 'handy', 'hang', 'happen', 'happier', 'happiest', 'happily', 'happiness', 'happy', 'harassment', 'harbor', 'hard', 'hard work', 'harder', 'hardest', 'hardly', 'harm', 'harmful', 'harris', 'harry', 'harry potter', 'harsh', 'hart', 'harvard', 'harvey', 'hashtag', 'hat', 'hate', 'haters', 'hathaway', 'haunt', 'havent', 'hawaii', 'hbo', 'head', 'headline', 'heal', 'health', 'health benefit', 'health care', 'health insurance', 'healthcare', 'healthier', 'healthiest', 'healthy', 'hear', 'heart', 'heart attack', 'heart disease', 'heartbreaking', 'heartfelt', 'hearts', 'heartwarming', 'heat', 'heaven', 'heavy', 'hed', 'heel', 'heidi', 'height', 'hell', 'hello', 'help', 'help kid', 'help make', 'help people', 'helpful', 'henry', 'heres', 'heritage', 'hero', 'heroes', 'heroin', 'hes', 'hey', 'hide', 'high', 'high school', 'higher', 'highest', 'highlight', 'highly', 'hike', 'hilarious', 'hilariously', 'hill', 'hillary', 'hillary clinton', 'hint', 'hip', 'hiphop', 'hire', 'historic', 'historical', 'history', 'history month', 'hit', 'hiv', 'hockey', 'hold', 'hold hand', 'holder', 'hole', 'holiday', 'holiday gift', 'holiday party', 'holiday season', 'hollywood', 'hollywoods', 'holy', 'home', 'home days', 'home decor', 'home sale', 'home story', 'home twitter', 'homeless', 'homemade', 'homesubmissionscom', 'homesubmissionscom pr', 'hometown', 'homework', 'homophobia', 'homophobic', 'honest', 'honestly', 'honey', 'honeymoon', 'honor', 'hook', 'hop', 'hope', 'hopeful', 'hopefully', 'horrible', 'horrific', 'horror', 'horse', 'hospital', 'hospitals', 'host', 'host say', 'hot', 'hot dog', 'hot pinterest', 'hotel', 'hotel room', 'hotels', 'hottest', 'hour', 'hours', 'house', 'house tour', 'household', 'houston', 'howard', 'hudson', 'huffington', 'huffington post', 'huffpollster', 'huffpost', 'huffpost hill', 'huffpost home', 'huffpost live', 'huffpost rise', 'huffpost style', 'huffpost tastemakers', 'hug', 'huge', 'human', 'human right', 'humanity', 'humans', 'humble', 'humor', 'hundreds', 'hunger', 'hungry', 'hunt', 'hunter', 'hurricane', 'hurricane sandy', 'hurt', 'husband', 'hype', 'ian', 'ice', 'ice cream', 'icon', 'iconic', 'id', 'idea', 'idea tip', 'ideal', 'ideas', 'identify', 'identity', 'idol', 'ignore', 'ii', 'ikea', 'ill', 'illegal', 'illinois', 'illness', 'illustrate', 'im', 'im sure', 'image', 'imagination', 'imagine', 'immediate', 'immediately', 'immigrant', 'immigrants', 'immigration', 'immune', 'impact', 'implement', 'imply', 'importance', 'important', 'importantly', 'impossible', 'impress', 'impression', 'impressive', 'improve', 'improvement', 'inappropriate', 'inauguration', 'incident', 'include', 'inclusion', 'inclusive', 'income', 'incorporate', 'increase', 'increase risk', 'increasingly', 'incredible', 'incredibly', 'independence', 'independent', 'india', 'indian', 'indiana', 'indicate', 'individual', 'individuals', 'indoor', 'indulge', 'industry', 'inequality', 'inevitable', 'infamous', 'infant', 'infection', 'infections', 'influence', 'inform', 'information', 'ingredient', 'ingredients', 'initial', 'initially', 'initiative', 'injure', 'injuries', 'injury', 'injustice', 'inner', 'innocent', 'innovation', 'innovative', 'insane', 'insecure', 'inside', 'insider', 'insight', 'insights', 'insist', 'inspiration', 'inspirational', 'inspire', 'instagram', 'instance', 'instant', 'instantly', 'instead', 'institute', 'institutions', 'insult', 'insurance', 'intelligence', 'intend', 'intense', 'intentions', 'interact', 'interior', 'intern', 'internal', 'international', 'internet', 'interrupt', 'interview', 'intimate', 'intimidate', 'intrigue', 'introduce', 'introvert', 'invest', 'investigate', 'investigation', 'investment', 'investors', 'invisible', 'invitation', 'invite', 'involve', 'iowa', 'ipad', 'iphone', 'iran', 'iraq', 'ireland', 'irish', 'iron', 'isis', 'island', 'islands', 'isnt', 'israel', 'issue', 'italian', 'italy', 'item', 'items', 'ivanka', 'ive', 'ive learn', 'jack', 'jacket', 'jackie', 'jackson', 'jacobs', 'jail', 'jake', 'jam', 'jam corden', 'jamie', 'jan', 'jane', 'janet', 'january', 'japan', 'japanese', 'jar', 'jason', 'jay', 'jazz', 'jean', 'jeans', 'jeff', 'jeff sessions', 'jenner', 'jennifer', 'jennifer lawrence', 'jennifer lopez', 'jeremy', 'jerry', 'jersey', 'jesse', 'jessica', 'jesus', 'jet', 'jewelry', 'jewish', 'jill', 'jim', 'jimmy', 'jimmy fallon', 'jimmy fallons', 'jimmy kimmel', 'jimmy kimmels', 'joan', 'job', 'joe', 'joe biden', 'john', 'john oliver', 'johnny', 'johnson', 'join', 'joint', 'joke', 'jon', 'jon stewart', 'jonathan', 'jones', 'jordan', 'joseph', 'josh', 'journal', 'journalist', 'journalists', 'journey', 'joy', 'joyful', 'jr', 'jrs', 'judge', 'judgment', 'juice', 'julia', 'julie', 'july', 'jump', 'june', 'jungle', 'junk', 'jury', 'justice', 'justin', 'justin bieber', 'justin timberlake', 'kaepernick', 'kansas', 'kanye', 'kanye west', 'kardashian', 'kardashians', 'karen', 'karl', 'kate', 'kate middleton', 'kate moss', 'katie', 'katy', 'katy perry', 'keith', 'kelly', 'ken', 'kendrick', 'kennedy', 'kentucky', 'kerr', 'kerry', 'kerry washington', 'kevin', 'key', 'khloe', 'kick', 'kid', 'kid eat', 'kid need', 'kid note', 'kill', 'killer', 'kim', 'kim kardashian', 'kimmel', 'kimmels', 'kind', 'kindergarten', 'kindness', 'kinds', 'king', 'king jr', 'kings', 'kiss', 'kit', 'kitchen', 'klein', 'knee', 'knicks', 'knight', 'knock', 'know', 'know exactly', 'know im', 'know know', 'know make', 'know people', 'know want', 'know youre', 'knowledge', 'kobe', 'kobe bryant', 'korea', 'kourtney', 'kris', 'kristen', 'kristen stewart', 'krugman', 'kylie', 'la', 'label', 'labor', 'labor day', 'lace', 'lack', 'ladies', 'lady', 'lady gaga', 'lake', 'lakers', 'lamar', 'land', 'landscape', 'lane', 'language', 'large', 'largely', 'larger', 'largest', 'larry', 'las', 'las vegas', 'lastminute', 'late', 'late host', 'late night', 'lately', 'latenight', 'later', 'latest', 'laugh', 'launch', 'laundry', 'laura', 'lauren', 'law', 'lawmaker', 'lawmakers', 'lawrence', 'laws', 'lawsuit', 'lawyer', 'lay', 'layer', 'lazy', 'lead', 'leader', 'leaders', 'leadership', 'league', 'leak', 'lean', 'learn', 'learn love', 'leather', 'leave', 'lebron', 'lebron jam', 'lee', 'lee daniels', 'leg', 'legacy', 'legal', 'legalize', 'legally', 'legend', 'legendary', 'legends', 'legislation', 'legitimate', 'lego', 'legs', 'lemon', 'lemonade', 'lena', 'lend', 'lesbian', 'lesbian gay', 'leslie', 'lesson', 'lessons', 'lessons learn', 'let', 'let know', 'letter', 'letterman', 'level', 'lewis', 'lgbt', 'lgbt community', 'lgbt people', 'lgbtq', 'lgbtq community', 'lgbtq people', 'liberal', 'liberty', 'license', 'lie', 'life', 'life change', 'life lessons', 'life wellbeing', 'lifes', 'lifestyle', 'lifetime', 'lift', 'light', 'like', 'likely', 'lil', 'lily', 'limit', 'lincoln', 'linda', 'lindsay', 'line', 'lineup', 'linger', 'link', 'lip', 'lips', 'lipstick', 'lisa', 'list', 'listen', 'literally', 'little', 'little bite', 'little boy', 'little girl', 'little girls', 'little kid', 'live', 'live appraise', 'live life', 'live matter', 'live room', 'lively', 'load', 'loan', 'lobby', 'local', 'locals', 'locate', 'location', 'lock', 'locker', 'log', 'logic', 'london', 'lonely', 'long', 'long time', 'long way', 'longer', 'longest', 'longterm', 'longtime', 'look', 'look check', 'look day', 'look forward', 'look good', 'look like', 'look little', 'look new', 'loom', 'loose', 'lopez', 'lord', 'los', 'los angeles', 'lose', 'lose weight', 'loser', 'loss', 'lot', 'lot people', 'lot time', 'lottery', 'loud', 'louis', 'louisiana', 'lounge', 'love', 'love letter', 'love ones', 'lovely', 'lover', 'lovers', 'low', 'lower', 'loyalty', 'luck', 'lucky', 'luggage', 'lunch', 'lung', 'luther', 'luther king', 'luxury', 'lynch', 'lyric', 'machine', 'mad', 'mad men', 'madison', 'madness', 'madonna', 'magazine', 'magazines', 'magic', 'magical', 'maher', 'mail', 'main', 'maine', 'mainstream', 'maintain', 'major', 'major league', 'majority', 'make', 'make america', 'make better', 'make big', 'make change', 'make decision', 'make difference', 'make easier', 'make feel', 'make fun', 'make good', 'make history', 'make home', 'make life', 'make look', 'make mistake', 'make new', 'make people', 'make perfect', 'make sense', 'make sure', 'make things', 'make want', 'make way', 'makeover', 'maker', 'makers', 'makeup', 'male', 'malfunction', 'mall', 'mama', 'man', 'manage', 'management', 'manager', 'managers', 'manhattan', 'manners', 'mansion', 'manziel', 'map', 'mar', 'marathon', 'marc', 'marc jacobs', 'march', 'marco', 'marcus', 'maria', 'mariah', 'marie', 'marijuana', 'mark', 'market', 'marriage', 'marriage equality', 'marry', 'martha', 'martin', 'martin luther', 'marvel', 'mary', 'maryland', 'mask', 'mason', 'mass', 'mass shoot', 'massachusetts', 'massacre', 'massive', 'master', 'mat', 'match', 'material', 'maternity', 'math', 'matt', 'matter', 'matthew', 'mature', 'max', 'maximize', 'maybe', 'mayo', 'mayor', 'mayweather', 'mccain', 'mcdonald', 'mcdonalds', 'meal', 'meals', 'mean', 'meaningful', 'measure', 'meat', 'medal', 'media', 'medicaid', 'medical', 'medicare', 'medications', 'medicine', 'meditate', 'meditation', 'mediterranean', 'meet', 'meet gala', 'meghan', 'melissa', 'melt', 'member', 'members', 'meme', 'memoir', 'memorable', 'memorial', 'memorial day', 'memories', 'memory', 'men', 'men women', 'mens', 'mental', 'mental health', 'mental illness', 'mentally', 'mention', 'menu', 'mere', 'merely', 'mess', 'message', 'messy', 'metal', 'meter', 'method', 'methods', 'mets', 'mexican', 'mexico', 'meyers', 'miami', 'michael', 'michael jordan', 'michael phelps', 'michelle', 'michelle obama', 'michigan', 'middle', 'middle east', 'middle school', 'middleton', 'middletons', 'midnight', 'midst', 'mighty', 'mike', 'mike pence', 'mild', 'mile', 'miles', 'milestone', 'miley', 'miley cyrus', 'military', 'milk', 'millennials', 'miller', 'million', 'million people', 'millions', 'minaj', 'mind', 'mindful', 'mindfulness', 'mindset', 'mini', 'minimum', 'minimum wage', 'minister', 'minnesota', 'minor', 'minorities', 'minority', 'mint', 'minute', 'minutes', 'miracle', 'miranda', 'mirror', 'misconduct', 'miss', 'mission', 'mississippi', 'missouri', 'mistake', 'misunderstand', 'mitt', 'mitt romney', 'mix', 'mlb', 'mobile', 'mock', 'model', 'moderate', 'modern', 'mogul', 'mold', 'mom', 'moment', 'moments', 'mommy', 'moms', 'moms dads', 'monday', 'money', 'monitor', 'monologue', 'monster', 'montana', 'month', 'months', 'months ago', 'mood', 'moon', 'moore', 'moral', 'morgan', 'morning', 'morning email', 'mornings', 'mortgage', 'moss', 'mother', 'mother day', 'motherhood', 'motion', 'motivate', 'motivation', 'mount', 'mountain', 'mountains', 'mourn', 'mouth', 'movement', 'movements', 'movie', 'movies', 'mr', 'mrs', 'mtv', 'muchneeded', 'mug', 'muhammad', 'multiple', 'murder', 'murray', 'muscle', 'museum', 'museums', 'mushroom', 'music', 'music award', 'music video', 'musical', 'musicians', 'musk', 'muslim', 'muslims', 'musthave', 'mustsee', 'mysterious', 'mystery', 'myth', 'myths', 'naacp', 'nail', 'nail polish', 'naked', 'nancy', 'naomi', 'nap', 'narrative', 'narrow', 'nassar', 'nasty', 'natalie', 'nate', 'nate berkus', 'nation', 'national', 'national anthem', 'national park', 'national security', 'nations', 'nationwide', 'native', 'natural', 'naturally', 'nature', 'navigate', 'navy', 'nba', 'nbc', 'ncaa', 'ncaa tournament', 'nd', 'near', 'nearly', 'necessarily', 'necessary', 'neck', 'need', 'need help', 'need know', 'need make', 'needle', 'negative', 'neglect', 'neighbor', 'neighborhood', 'neil', 'nervous', 'net', 'netflix', 'network', 'networkfrom', 'new', 'new album', 'new baby', 'new book', 'new england', 'new hampshire', 'new jersey', 'new mom', 'new movie', 'new orleans', 'new study', 'new use', 'new video', 'new world', 'new year', 'new years', 'new york', 'new yorks', 'new zealand', 'newborn', 'newest', 'newly', 'news', 'newspaper', 'newton', 'nfl', 'nfl player', 'nfl players', 'nfls', 'nice', 'nick', 'nicki', 'nicole', 'night', 'night clip', 'night live', 'nightmare', 'nights', 'noah', 'nod', 'noise', 'nominate', 'nomination', 'nominations', 'nominee', 'nominees', 'nonprofit', 'normal', 'north', 'north carolina', 'north korea', 'northern', 'nose', 'nostalgia', 'note', 'note day', 'notice', 'notion', 'notorious', 'nov', 'novel', 'november', 'nra', 'nsfw', 'nuclear', 'nude', 'number', 'numerous', 'nurse', 'nurture', 'nut', 'nutrition', 'nutritional', 'ny', 'nyc', 'oasis', 'obama', 'obama administration', 'obamacare', 'obamas', 'obese', 'obesity', 'object', 'obrien', 'observe', 'obsess', 'obsession', 'obstacles', 'obvious', 'obviously', 'occasion', 'occur', 'ocean', 'oct', 'october', 'odd', 'odds', 'ode', 'offend', 'offensive', 'offer', 'office', 'officer', 'official', 'officially', 'officials', 'oh', 'ohio', 'oil', 'ok', 'okay', 'oklahoma', 'old', 'older', 'oldest', 'olive', 'oliver', 'olivia', 'olympian', 'olympians', 'olympic', 'olympics', 'ones', 'ongoing', 'onion', 'online', 'open', 'open letter', 'openly', 'openly gay', 'operate', 'opinion', 'opinions', 'opioid', 'opportunities', 'opportunity', 'oppose', 'opposite', 'oprah', 'opt', 'option', 'options', 'oral', 'orange', 'order', 'ordinary', 'oregon', 'organic', 'organization', 'organizations', 'organize', 'organizers', 'orientation', 'original', 'originally', 'orlando', 'orleans', 'oscar', 'oscars', 'outbreak', 'outdoor', 'outdoors', 'outfit', 'outrage', 'outrageous', 'outside', 'oven', 'overall', 'overcome', 'overdose', 'overlook', 'overnight', 'overweight', 'overwhelm', 'owe', 'owner', 'owners', 'oyster', 'oz', 'pace', 'pacific', 'pack', 'package', 'page', 'pain', 'painful', 'paint', 'pair', 'palace', 'palm', 'pan', 'pancakes', 'pandemic', 'panel', 'panic', 'pant', 'panther', 'paper', 'parade', 'paradise', 'pardon', 'parent', 'parent children', 'parent kid', 'parent need', 'parental', 'parenthood', 'paris', 'park', 'parker', 'parody', 'participants', 'participate', 'particular', 'particularly', 'partner', 'partnership', 'party', 'pass', 'passage', 'passenger', 'passengers', 'passion', 'passionate', 'past', 'past week', 'past year', 'past years', 'pasta', 'pastor', 'pat', 'path', 'paths', 'patience', 'patient', 'patients', 'patio', 'patrick', 'patricks', 'patricks day', 'patriotic', 'patriots', 'pattern', 'paul', 'paul ryan', 'paula', 'pause', 'pave', 'pay', 'pay attention', 'pay tribute', 'peace', 'peaceful', 'peach', 'peak', 'peanut', 'peanut butter', 'pee', 'peek', 'peel', 'peer', 'pen', 'penalty', 'pence', 'penis', 'pennsylvania', 'people', 'people color', 'people dont', 'people know', 'people like', 'people live', 'people say', 'people think', 'people use', 'people want', 'pepper', 'perceive', 'percent', 'perception', 'perfect', 'perfect time', 'perfection', 'perfectly', 'perform', 'performance', 'performances', 'perfume', 'period', 'perk', 'permanent', 'permission', 'perpetuate', 'perry', 'person', 'personal', 'personality', 'personalize', 'personally', 'persons', 'perspective', 'pet', 'pete', 'peter', 'petition', 'peyton', 'peyton man', 'phase', 'phd', 'phelps', 'phil', 'philadelphia', 'philosophy', 'phone', 'photo', 'photograph', 'photographer', 'photos', 'photosa', 'photosand', 'photosas', 'photosbut', 'photoscheck', 'photosdo', 'photosdo home', 'photosfor', 'photosfrom', 'photoshave', 'photoshave say', 'photoshop', 'photosi', 'photosif', 'photosin', 'photosit', 'photosits', 'photoson', 'photosphotos', 'photossee', 'photosso', 'photosthe', 'photosthere', 'photosthese', 'photosthis', 'photoswant', 'photoswant sure', 'photoswe', 'photoswere', 'photosweve', 'photoswhat', 'photoswhen', 'photoswhile', 'photoswith', 'photosyou', 'photothe', 'phrase', 'physical', 'physically', 'physician', 'pick', 'pickle', 'pics', 'picture', 'pie', 'piece', 'pig', 'pile', 'pill', 'pillow', 'pilot', 'pin', 'pink', 'pinners', 'pinners follow', 'pinterest', 'pinterest instagram', 'pinterest tumblr', 'pioneer', 'pipeline', 'pippa', 'pit', 'pitch', 'pitch send', 'pizza', 'place', 'plague', 'plain', 'plan', 'plane', 'planet', 'plant', 'plastic', 'plate', 'platform', 'play', 'player', 'players', 'playground', 'playlist', 'playoff', 'plea', 'plead', 'plead guilty', 'pleasant', 'pleasure', 'pledge', 'plenty', 'plot', 'plunge', 'plus', 'plussize', 'pm', 'pocket', 'podcast', 'poem', 'poet', 'point', 'police', 'police brutality', 'police officer', 'policies', 'policy', 'polish', 'political', 'politically', 'politicians', 'politics', 'poll', 'ponder', 'pool', 'poor', 'pop', 'pope', 'popular', 'population', 'pork', 'porn', 'portion', 'portland', 'portray', 'pose', 'position', 'positive', 'possibilities', 'possibility', 'possible', 'possibly', 'post', 'postpartum', 'pot', 'potato', 'potatoes', 'potential', 'potentially', 'potter', 'potty', 'pound', 'pour', 'poverty', 'powder', 'power', 'powerful', 'pr', 'pr pitch', 'practical', 'practically', 'practice', 'praise', 'prank', 'pray', 'precious', 'predict', 'predictions', 'prefer', 'pregnancy', 'pregnant', 'premier', 'premiere', 'prep', 'prepare', 'preschool', 'prescription', 'presence', 'present', 'preserve', 'presidency', 'president', 'president obama', 'president obamas', 'president say', 'president trump', 'presidentelect', 'presidential', 'presidential candidate', 'presidents', 'press', 'pressure', 'pretend', 'pretty', 'prevent', 'prevention', 'preview', 'previous', 'previously', 'price', 'pride', 'primary', 'prime', 'prince', 'prince harry', 'prince william', 'princess', 'principles', 'print', 'prior', 'priority', 'prison', 'privacy', 'private', 'privilege', 'prize', 'pro', 'probably', 'probe', 'problem', 'problems', 'proceed', 'process', 'produce', 'producer', 'producers', 'product', 'production', 'productive', 'productivity', 'products', 'professional', 'professionals', 'professor', 'profile', 'profit', 'profound', 'program', 'progress', 'progressive', 'project', 'prom', 'promise', 'promote', 'prompt', 'proof', 'prop', 'proper', 'properly', 'property', 'proposal', 'propose', 'pros', 'prosecutors', 'prospect', 'protect', 'protection', 'protections', 'protein', 'protest', 'protesters', 'proud', 'proudly', 'prove', 'provide', 'providers', 'psychological', 'psychology', 'public', 'public health', 'publicly', 'publish', 'puerto', 'pull', 'pulse', 'pump', 'pumpkin', 'punch', 'punish', 'punishment', 'puppy', 'purchase', 'pure', 'purple', 'purpose', 'purse', 'pursue', 'pursuit', 'push', 'putin', 'qa', 'qualify', 'quality', 'quarter', 'quarterback', 'queen', 'queer', 'quest', 'question', 'question ask', 'questionable', 'quick', 'quickly', 'quiet', 'quietly', 'quirky', 'quit', 'quite', 'quiz', 'quote', 'race', 'rachel', 'racial', 'racism', 'racist', 'rack', 'radar', 'radical', 'radio', 'rag', 'rage', 'rain', 'rainbow', 'raise', 'raise children', 'rally', 'ramen', 'random', 'range', 'rank', 'rant', 'rap', 'rape', 'rapper', 'rare', 'rarely', 'rat', 'rate', 'raven', 'raw', 'ray', 'reach', 'react', 'reaction', 'reactions', 'read', 'read real', 'readers', 'ready', 'real', 'real estate', 'real simple', 'real time', 'reality', 'realize', 'reallife', 'really', 'really good', 'really know', 'really like', 'really need', 'really really', 'really want', 'reason', 'reason love', 'reasonable', 'rebel', 'recall', 'recap', 'receive', 'receiver', 'recent', 'recently', 'recession', 'recipe', 'recipe day', 'recipes', 'recognition', 'recognize', 'recommend', 'recommendations', 'record', 'recover', 'recovery', 'recreate', 'recruit', 'red', 'red carpet', 'reddit', 'redefine', 'redskins', 'reduce', 'refer', 'reference', 'reflect', 'reflection', 'reform', 'refresh', 'refugee', 'refuse', 'regard', 'regardless', 'region', 'register', 'regret', 'regular', 'regularly', 'reign', 'reinvent', 'reject', 'relate', 'relations', 'relationship', 'relationships', 'relatively', 'relax', 'relaxation', 'release', 'relevant', 'relief', 'relieve', 'religion', 'religious', 'rely', 'remain', 'remake', 'remark', 'remarkable', 'remedy', 'remember', 'remind', 'reminder', 'reminders', 'remote', 'remove', 'renew', 'rent', 'rental', 'rep', 'repair', 'repeal', 'repeat', 'replace', 'replacement', 'report', 'reportedly', 'reporter', 'reporters', 'reportthe', 'represent', 'representation', 'republican', 'republicans', 'repurposing', 'repurposing ideas', 'reputation', 'request', 'require', 'rescue', 'research', 'researcher', 'researchers', 'reserve', 'residents', 'resign', 'resilience', 'resist', 'resistance', 'resolution', 'resolutions', 'resolve', 'resonate', 'resort', 'resources', 'respect', 'respond', 'response', 'responses', 'responsibility', 'responsible', 'rest', 'restaurant', 'restaurants', 'restore', 'restrictions', 'result', 'resume', 'retail', 'retailer', 'retailers', 'rethink', 'retire', 'retirement', 'retreat', 'return', 'reunion', 'reunite', 'reuters', 'rev', 'reveal', 'reverse', 'review', 'revive', 'revolution', 'reward', 'reynolds', 'rice', 'rich', 'richard', 'rick', 'rico', 'rid', 'ride', 'ridiculous', 'right', 'right way', 'rightwing', 'rihanna', 'ring', 'rio', 'riot', 'rip', 'rise', 'risk', 'ritual', 'rival', 'river', 'rivers', 'rnc', 'road', 'road trip', 'roads', 'roast', 'rob', 'robert', 'roberts', 'robin', 'robinson', 'rock', 'rocky', 'roger', 'rogue', 'role', 'role model', 'roles', 'roll', 'roller', 'roman', 'romance', 'romantic', 'romney', 'ron', 'ronda', 'roof', 'rookie', 'room', 'root', 'ross', 'rouge', 'rough', 'roughly', 'round', 'roundup', 'roundup ebay', 'route', 'routine', 'routines', 'row', 'roy', 'roy moore', 'royal', 'royals', 'rubio', 'ruin', 'rule', 'rumor', 'run', 'runner', 'runners', 'runway', 'rupauls', 'rupauls drag', 'rush', 'russell', 'russia', 'russian', 'ryan', 'sacred', 'sacrifice', 'sad', 'sadly', 'safe', 'safety', 'sag', 'sail', 'saint', 'sake', 'salad', 'sale', 'sales', 'salt', 'sam', 'samantha', 'samantha bee', 'samesex', 'samesex marriage', 'san', 'san diego', 'san francisco', 'sanctuary', 'sand', 'sanders', 'sandra', 'sandwich', 'sandy', 'sandy hook', 'santa', 'sarah', 'satisfy', 'saturday', 'saturday night', 'sauce', 'save', 'save money', 'savory', 'savvy', 'saw', 'say', 'say check', 'say dont', 'say goodbye', 'say hes', 'say im', 'say shes', 'say sure', 'say time', 'say trump', 'say want', 'saysthe', 'scale', 'scan', 'scandal', 'scar', 'scare', 'scary', 'scene', 'scenes', 'schedule', 'school', 'school year', 'schumer', 'science', 'scientific', 'scientists', 'score', 'scott', 'scout', 'scratch', 'scream', 'screen', 'screw', 'script', 'scroll', 'sea', 'seafood', 'seahawks', 'seal', 'sean', 'sean spicer', 'search', 'season', 'seasonal', 'seat', 'seattle', 'second', 'secret', 'secretary', 'secretary state', 'secretly', 'secrets', 'section', 'sector', 'secure', 'security', 'seed', 'seek', 'seemingly', 'segment', 'select', 'selection', 'selena', 'self', 'selfie', 'sell', 'sellers', 'selma', 'sen', 'senate', 'senator', 'senators', 'send', 'send address', 'senior', 'sense', 'sensitive', 'sentence', 'separate', 'sept', 'september', 'sequel', 'serena', 'serena williams', 'series', 'seriously', 'serve', 'service', 'sesame', 'session', 'sessions', 'set', 'seth', 'seth meyers', 'settle', 'settlement', 'seven', 'severe', 'sex', 'sexist', 'sexual', 'sexual abuse', 'sexual assault', 'sexual harassment', 'sexual misconduct', 'sexuality', 'sexually', 'sexy', 'shade', 'shadow', 'shake', 'sham', 'shame', 'shape', 'share', 'shark', 'sharp', 'shatter', 'shave', 'shed', 'sheer', 'sheet', 'shelf', 'shell', 'shelter', 'shelve', 'shes', 'shield', 'shift', 'shin', 'shine', 'ship', 'shirt', 'shock', 'shoe', 'shoot', 'shop', 'shoppers', 'shore', 'short', 'shortage', 'shots', 'shoulder', 'shouldnt', 'shower', 'shred', 'shrink', 'shut', 'shutdown', 'shy', 'sibling', 'siblings', 'sick', 'sight', 'sign', 'signal', 'signature', 'significant', 'significantly', 'silence', 'silent', 'silly', 'silver', 'similar', 'simmons', 'simone', 'simple', 'simple step', 'simply', 'simpson', 'simpsons', 'sing', 'singapore', 'singer', 'singers', 'single', 'sink', 'sip', 'sister', 'sisters', 'sit', 'site', 'situation', 'situations', 'size', 'skater', 'sketch', 'skewer', 'ski', 'skill', 'skills', 'skin', 'skinny', 'skip', 'skirt', 'sky', 'slam', 'slap', 'slave', 'slay', 'sleep', 'sleep apnea', 'slice', 'slide', 'slideshow', 'slightly', 'slip', 'slow', 'slowly', 'slur', 'small', 'small space', 'smaller', 'smart', 'smarter', 'smash', 'smell', 'smile', 'smith', 'smoke', 'snack', 'snap', 'sneak', 'sneak peek', 'sneakers', 'snl', 'snls', 'snow', 'soak', 'soar', 'sober', 'socalled', 'soccer', 'social', 'social media', 'socially', 'society', 'sock', 'soda', 'soft', 'soldier', 'solid', 'solidarity', 'solo', 'solution', 'solutions', 'solve', 'somebody', 'someones', 'somewhat', 'son', 'song', 'songs', 'sons', 'soon', 'soothe', 'sophisticate', 'sorry', 'sort', 'soul', 'souls', 'sound', 'sound like', 'soup', 'source', 'south', 'south carolina', 'southern', 'spa', 'space', 'spain', 'spanish', 'spare', 'spark', 'sparkle', 'speak', 'speaker', 'spear', 'special', 'special need', 'specific', 'specifically', 'spectacular', 'spectrum', 'speech', 'speed', 'spell', 'spencer', 'spend', 'spend lot', 'spend time', 'spice', 'spicer', 'spike', 'spill', 'spin', 'spirit', 'spiritual', 'splash', 'split', 'spoil', 'spokesman', 'spoof', 'sport', 'spot', 'spotlight', 'spray', 'spread', 'spring', 'spring break', 'spring clean', 'sprout', 'sprout home', 'spur', 'spy', 'squad', 'square', 'squeeze', 'st', 'st century', 'st louis', 'st patricks', 'stack', 'stadium', 'staff', 'stag', 'stage', 'stain', 'stake', 'stamp', 'stance', 'stand', 'standard', 'standards', 'staple', 'star', 'star say', 'star trek', 'star war', 'starbucks', 'start', 'start day', 'start new', 'startup', 'state', 'statement', 'statements', 'station', 'status', 'stay', 'stayathome', 'steal', 'steel', 'stem', 'step', 'stephen', 'stephen colbert', 'stereotype', 'sterling', 'steve', 'steve bannon', 'steven', 'stewart', 'stewarts', 'stick', 'stigma', 'stir', 'stock', 'stomach', 'stone', 'stop', 'storage', 'store', 'stories', 'storm', 'story', 'story idea', 'straight', 'strain', 'strain constantly', 'strange', 'stranger', 'strangers', 'strap', 'strategies', 'strategy', 'streak', 'stream', 'street', 'street style', 'streets', 'strength', 'strengthen', 'stress', 'stress strain', 'stressfree', 'stressful', 'stretch', 'strike', 'string', 'strip', 'strive', 'stroke', 'strong', 'stronger', 'structure', 'struggle', 'student', 'students', 'studio', 'study', 'studythe', 'stuff', 'stumble', 'stun', 'stunt', 'stupid', 'style', 'style evolution', 'style moments', 'style twitter', 'stylelist', 'stylelist home', 'stylelist networkfrom', 'stylelist twitter', 'stylish', 'stylist', 'subject', 'submit', 'subtle', 'subway', 'succeed', 'success', 'successful', 'successfully', 'suck', 'sudden', 'suddenly', 'sue', 'suffer', 'sugar', 'suggest', 'suggestions', 'suicide', 'suit', 'sum', 'summer', 'summit', 'sun', 'sunday', 'sunglasses', 'sunny', 'sunshine', 'super', 'super bowl', 'superhero', 'supermarket', 'supermodel', 'superstar', 'supplement', 'supply', 'support', 'supporters', 'suppose', 'supreme', 'supreme court', 'sure', 'sure check', 'surely', 'surf', 'surface', 'surge', 'surgery', 'surprise', 'surprisingly', 'surround', 'survey', 'survival', 'survive', 'survivor', 'survivors', 'susan', 'sushi', 'suspect', 'suspend', 'suspension', 'sustain', 'sustainable', 'swap', 'swear', 'sweat', 'swedish', 'sweep', 'sweet', 'swift', 'swifts', 'swim', 'swimsuit', 'swing', 'switch', 'symbol', 'symptoms', 'syndrome', 'systems', 'table', 'table talk', 'tackle', 'tactics', 'tag', 'tale', 'talent', 'talented', 'tales', 'talk', 'talk kid', 'tall', 'tan', 'tank', 'tap', 'tape', 'target', 'task', 'taste', 'taste like', 'taste test', 'tastemakers', 'tasty', 'tattoo', 'taunt', 'tax', 'taxi', 'taylor', 'taylor swift', 'tea', 'teach', 'teach children', 'teach kid', 'teacher', 'teachers', 'team', 'teammates', 'tear', 'tease', 'tech', 'techniques', 'technology', 'ted', 'ted cruz', 'teen', 'teenage', 'teenager', 'teenagers', 'teens', 'teeth', 'teigen', 'television', 'tell', 'tell kid', 'tell story', 'temperatures', 'temporary', 'tempt', 'tend', 'tennessee', 'tennis', 'tension', 'term', 'terrible', 'terrify', 'terror', 'test', 'testify', 'texas', 'text', 'texting', 'th', 'th anniversary', 'th birthday', 'th century', 'thank', 'thank note', 'thankful', 'thankfully', 'thanksgiving', 'thatll', 'thats', 'theater', 'theaters', 'theme', 'theory', 'therapy', 'theres', 'theyd', 'theyll', 'theyre', 'theyve', 'thing', 'things', 'things didnt', 'things happen', 'things know', 'things learn', 'things life', 'things like', 'things say', 'things want', 'think', 'think know', 'thomas', 'thompson', 'thoughts', 'thousand', 'thousands', 'thread', 'threat', 'threaten', 'threats', 'thrill', 'thrive', 'throne', 'throw', 'throwback', 'thursday', 'tick', 'ticket', 'tie', 'tiger', 'tiger woods', 'tight', 'tim', 'timberlake', 'time', 'time come', 'time make', 'time start', 'time think', 'time time', 'time year', 'tina', 'tiny', 'tiny home', 'tip', 'tip email', 'tip help', 'tip make', 'tire', 'tissue', 'title', 'toast', 'tobacco', 'today', 'todays', 'toddler', 'toddlers', 'todo', 'toe', 'toilet', 'tokyo', 'toll', 'tom', 'tom brady', 'tomato', 'tomorrow', 'ton', 'tone', 'tongue', 'tonight', 'tons', 'tony', 'tool', 'tooth', 'topic', 'topics', 'toronto', 'toss', 'total', 'totally', 'touch', 'touchdown', 'tough', 'tour', 'tourism', 'tourist', 'tourists', 'tournament', 'tout', 'towel', 'tower', 'town', 'towns', 'toxic', 'toy', 'track', 'trade', 'tradition', 'traditional', 'traditions', 'traffic', 'tragedy', 'tragic', 'trail', 'trailer', 'train', 'trainer', 'trans', 'transform', 'transformation', 'transgender', 'transgender people', 'transgender woman', 'transition', 'translate', 'transplant', 'trap', 'trash', 'trauma', 'travel', 'travel zen', 'traveler', 'travelers', 'trayvon', 'trayvon martin', 'treasure', 'treat', 'treatment', 'treatments', 'tree', 'trek', 'tremendous', 'trend', 'trendy', 'trevor', 'trevor noah', 'trial', 'tribute', 'trick', 'tricky', 'trigger', 'trip', 'triple', 'triumph', 'troll', 'troop', 'tropical', 'trouble', 'truck', 'true', 'truly', 'trump', 'trump administration', 'trump campaign', 'trump say', 'trump supporters', 'trump white', 'trumpthe', 'trust', 'truth', 'truths', 'try', 'try make', 'tsa', 'tshirt', 'tuesday', 'tumblr', 'tumblr instagram', 'tumblr pinterest', 'tune', 'turkey', 'turn', 'tutorial', 'tv', 'tweet', 'twice', 'twin', 'twist', 'twitter', 'twitter facebook', 'tyler', 'type', 'typical', 'typically', 'uber', 'ugly', 'uk', 'ultimate', 'ultimately', 'uncomfortable', 'uncover', 'undergo', 'underground', 'undermine', 'understand', 'underwear', 'undocumented', 'unemployment', 'unexpected', 'unfortunate', 'unfortunately', 'uniform', 'union', 'unions', 'unique', 'unite', 'unite state', 'universal', 'universe', 'university', 'unknown', 'unless', 'unlike', 'unlikely', 'unnecessary', 'unplug', 'unusual', 'unveil', 'upcoming', 'update', 'upgrade', 'upset', 'urban', 'urge', 'usa', 'use', 'use word', 'useful', 'user', 'users', 'usher', 'usual', 'usually', 'utah', 'vacation', 'vaccine', 'valentines', 'valentines day', 'valley', 'valuable', 'value', 'van', 'vanity', 'variety', 'various', 'vary', 'vast', 'vegan', 'vegas', 'vegetable', 'vegetables', 'vegetarian', 'vehicle', 'venture', 'version', 'versions', 'veteran', 'veterans', 'vibrant', 'vice', 'vice president', 'victim', 'victims', 'victoria', 'victorias', 'victorias secret', 'victory', 'video', 'video game', 'videoif', 'videoin', 'videoits', 'videos', 'videothe', 'videothis', 'videowant', 'videowatch', 'videowe', 'view', 'viewers', 'village', 'vintage', 'vintage home', 'violate', 'violence', 'violent', 'viral', 'virgin', 'virginia', 'virtual', 'virus', 'vision', 'visit', 'visitors', 'visual', 'vital', 'vitamin', 'vogue', 'voice', 'volunteer', 'von', 'vote', 'voter', 'voter fraud', 'voters', 'vow', 'vs', 'vulnerable', 'wade', 'waffle', 'wag', 'wage', 'wait', 'wake', 'walk', 'walk dead', 'walker', 'wall', 'wall st', 'wall street', 'walmart', 'walt', 'walt disney', 'wander', 'want', 'want help', 'want kid', 'want know', 'want make', 'want sure', 'war', 'wardrobe', 'wardrobe malfunction', 'warm', 'warmer', 'warn', 'warner', 'warren', 'warriors', 'wash', 'washington', 'washington dc', 'wasnt', 'waste', 'watch', 'water', 'watson', 'wave', 'way', 'way make', 'ways', 'ways fix', 'ways make', 'ways use', 'weak', 'wealth', 'wealthy', 'weapon', 'weapons', 'wear', 'weather', 'weave', 'web', 'website', 'wed', 'wednesday', 'week', 'weekend', 'weekend diy', 'weekend update', 'weekly', 'weekly roundup', 'weeks', 'weeks ago', 'weeks best', 'weigh', 'weight', 'weight loss', 'weinstein', 'weird', 'welcome', 'wellbeing', 'wellbeing course', 'wellness', 'wellness stories', 'werent', 'west', 'western', 'wests', 'weve', 'whats', 'wheel', 'wheres', 'whip', 'white', 'white house', 'white people', 'whitney', 'whos', 'whove', 'wide', 'widely', 'wife', 'wild', 'william', 'williams', 'wilson', 'win', 'wind', 'window', 'windows', 'wine', 'wing', 'winner', 'winners', 'winter', 'winter olympics', 'wipe', 'wire', 'wisconsin', 'wisdom', 'wish', 'wish list', 'witness', 'woman', 'womans', 'women', 'women business', 'womens', 'wonder', 'wonderful', 'wont', 'wood', 'woods', 'woody', 'word', 'work', 'work hard', 'work mom', 'worker', 'workers', 'workforce', 'workout', 'workouts', 'workplace', 'world', 'world cup', 'world series', 'worlds', 'worlds best', 'worlds largest', 'worldwide', 'worry', 'worse', 'worst', 'worst beauty', 'worstdressed', 'worth', 'worthy', 'wouldnt', 'wound', 'wow', 'wrap', 'wreck', 'wrestle', 'wright', 'write', 'writer', 'writers', 'wrong', 'yahoo', 'yard', 'yeah', 'year', 'year old', 'yearold', 'yearold daughter', 'yearold son', 'yearolds', 'years', 'years ago', 'years eve', 'years later', 'years old', 'years resolutions', 'yell', 'yellow', 'yes', 'yesterday', 'yield', 'yoga', 'yogurt', 'york', 'york city', 'york fashion', 'york time', 'yorkers', 'yorks', 'youd', 'youll', 'youll need', 'youll want', 'young', 'young children', 'young people', 'younger', 'youngest', 'youre', 'youre look', 'youre probably', 'youth', 'youtube', 'youve', 'zealand', 'zen', 'zero', 'zika', 'zika virus', 'zimmerman', 'zoe', 'zone']\n"
     ]
    },
    {
     "name": "stderr",
     "output_type": "stream",
     "text": [
      "C:\\Users\\win10\\anaconda3\\lib\\site-packages\\sklearn\\utils\\deprecation.py:87: FutureWarning: Function get_feature_names is deprecated; get_feature_names is deprecated in 1.0 and will be removed in 1.2. Please use get_feature_names_out instead.\n",
      "  warnings.warn(msg, category=FutureWarning)\n"
     ]
    }
   ],
   "source": [
    "print(vecto.get_feature_names())"
   ]
  },
  {
   "cell_type": "code",
   "execution_count": 38,
   "id": "39aac380",
   "metadata": {},
   "outputs": [
    {
     "data": {
      "text/html": [
       "<div>\n",
       "<style scoped>\n",
       "    .dataframe tbody tr th:only-of-type {\n",
       "        vertical-align: middle;\n",
       "    }\n",
       "\n",
       "    .dataframe tbody tr th {\n",
       "        vertical-align: top;\n",
       "    }\n",
       "\n",
       "    .dataframe thead th {\n",
       "        text-align: right;\n",
       "    }\n",
       "</style>\n",
       "<table border=\"1\" class=\"dataframe\">\n",
       "  <thead>\n",
       "    <tr style=\"text-align: right;\">\n",
       "      <th></th>\n",
       "      <th>aaron</th>\n",
       "      <th>abandon</th>\n",
       "      <th>abc</th>\n",
       "      <th>abcs</th>\n",
       "      <th>ability</th>\n",
       "      <th>able</th>\n",
       "      <th>abortion</th>\n",
       "      <th>abroad</th>\n",
       "      <th>absolute</th>\n",
       "      <th>absolutely</th>\n",
       "      <th>...</th>\n",
       "      <th>youtube</th>\n",
       "      <th>youve</th>\n",
       "      <th>zealand</th>\n",
       "      <th>zen</th>\n",
       "      <th>zero</th>\n",
       "      <th>zika</th>\n",
       "      <th>zika virus</th>\n",
       "      <th>zimmerman</th>\n",
       "      <th>zoe</th>\n",
       "      <th>zone</th>\n",
       "    </tr>\n",
       "  </thead>\n",
       "  <tbody>\n",
       "    <tr>\n",
       "      <th>0</th>\n",
       "      <td>0.0</td>\n",
       "      <td>0.0</td>\n",
       "      <td>0.0</td>\n",
       "      <td>0.0</td>\n",
       "      <td>0.0</td>\n",
       "      <td>0.0</td>\n",
       "      <td>0.0</td>\n",
       "      <td>0.0</td>\n",
       "      <td>0.0</td>\n",
       "      <td>0.0</td>\n",
       "      <td>...</td>\n",
       "      <td>0.0</td>\n",
       "      <td>0.0</td>\n",
       "      <td>0.0</td>\n",
       "      <td>0.0</td>\n",
       "      <td>0.0</td>\n",
       "      <td>0.0</td>\n",
       "      <td>0.0</td>\n",
       "      <td>0.0</td>\n",
       "      <td>0.0</td>\n",
       "      <td>0.0</td>\n",
       "    </tr>\n",
       "    <tr>\n",
       "      <th>1</th>\n",
       "      <td>0.0</td>\n",
       "      <td>0.0</td>\n",
       "      <td>0.0</td>\n",
       "      <td>0.0</td>\n",
       "      <td>0.0</td>\n",
       "      <td>0.0</td>\n",
       "      <td>0.0</td>\n",
       "      <td>0.0</td>\n",
       "      <td>0.0</td>\n",
       "      <td>0.0</td>\n",
       "      <td>...</td>\n",
       "      <td>0.0</td>\n",
       "      <td>0.0</td>\n",
       "      <td>0.0</td>\n",
       "      <td>0.0</td>\n",
       "      <td>0.0</td>\n",
       "      <td>0.0</td>\n",
       "      <td>0.0</td>\n",
       "      <td>0.0</td>\n",
       "      <td>0.0</td>\n",
       "      <td>0.0</td>\n",
       "    </tr>\n",
       "    <tr>\n",
       "      <th>2</th>\n",
       "      <td>0.0</td>\n",
       "      <td>0.0</td>\n",
       "      <td>0.0</td>\n",
       "      <td>0.0</td>\n",
       "      <td>0.0</td>\n",
       "      <td>0.0</td>\n",
       "      <td>0.0</td>\n",
       "      <td>0.0</td>\n",
       "      <td>0.0</td>\n",
       "      <td>0.0</td>\n",
       "      <td>...</td>\n",
       "      <td>0.0</td>\n",
       "      <td>0.0</td>\n",
       "      <td>0.0</td>\n",
       "      <td>0.0</td>\n",
       "      <td>0.0</td>\n",
       "      <td>0.0</td>\n",
       "      <td>0.0</td>\n",
       "      <td>0.0</td>\n",
       "      <td>0.0</td>\n",
       "      <td>0.0</td>\n",
       "    </tr>\n",
       "    <tr>\n",
       "      <th>3</th>\n",
       "      <td>0.0</td>\n",
       "      <td>0.0</td>\n",
       "      <td>0.0</td>\n",
       "      <td>0.0</td>\n",
       "      <td>0.0</td>\n",
       "      <td>0.0</td>\n",
       "      <td>0.0</td>\n",
       "      <td>0.0</td>\n",
       "      <td>0.0</td>\n",
       "      <td>0.0</td>\n",
       "      <td>...</td>\n",
       "      <td>0.0</td>\n",
       "      <td>0.0</td>\n",
       "      <td>0.0</td>\n",
       "      <td>0.0</td>\n",
       "      <td>0.0</td>\n",
       "      <td>0.0</td>\n",
       "      <td>0.0</td>\n",
       "      <td>0.0</td>\n",
       "      <td>0.0</td>\n",
       "      <td>0.0</td>\n",
       "    </tr>\n",
       "  </tbody>\n",
       "</table>\n",
       "<p>4 rows × 5000 columns</p>\n",
       "</div>"
      ],
      "text/plain": [
       "   aaron  abandon  abc  abcs  ability  able  abortion  abroad  absolute  \\\n",
       "0    0.0      0.0  0.0   0.0      0.0   0.0       0.0     0.0       0.0   \n",
       "1    0.0      0.0  0.0   0.0      0.0   0.0       0.0     0.0       0.0   \n",
       "2    0.0      0.0  0.0   0.0      0.0   0.0       0.0     0.0       0.0   \n",
       "3    0.0      0.0  0.0   0.0      0.0   0.0       0.0     0.0       0.0   \n",
       "\n",
       "   absolutely  ...  youtube  youve  zealand  zen  zero  zika  zika virus  \\\n",
       "0         0.0  ...      0.0    0.0      0.0  0.0   0.0   0.0         0.0   \n",
       "1         0.0  ...      0.0    0.0      0.0  0.0   0.0   0.0         0.0   \n",
       "2         0.0  ...      0.0    0.0      0.0  0.0   0.0   0.0         0.0   \n",
       "3         0.0  ...      0.0    0.0      0.0  0.0   0.0   0.0         0.0   \n",
       "\n",
       "   zimmerman  zoe  zone  \n",
       "0        0.0  0.0   0.0  \n",
       "1        0.0  0.0   0.0  \n",
       "2        0.0  0.0   0.0  \n",
       "3        0.0  0.0   0.0  \n",
       "\n",
       "[4 rows x 5000 columns]"
      ]
     },
     "execution_count": 38,
     "metadata": {},
     "output_type": "execute_result"
    }
   ],
   "source": [
    "tfidf_df = pd.DataFrame(X_train,columns = vecto.get_feature_names())\n",
    "tfidf_df.head(4)"
   ]
  },
  {
   "cell_type": "code",
   "execution_count": 39,
   "id": "8c75d1da",
   "metadata": {},
   "outputs": [
    {
     "name": "stdout",
     "output_type": "stream",
     "text": [
      "Accuracy Score:  0.6291111111111111\n",
      "Recall score :  0.6250322146123981\n",
      "Precision :  0.6289819465076026\n",
      "F1 score :  0.6255312315033367\n"
     ]
    }
   ],
   "source": [
    "# Training the model\n",
    "\n",
    "# Naibe Bayes - Multinominal\n",
    "\n",
    "multinb = MultinomialNB()\n",
    "multinb.fit(X_train , y_train)\n",
    "\n",
    "y_pred = multinb.predict(X_test)\n",
    "\n",
    "print(\"Accuracy Score: \", accuracy_score(y_test,y_pred))\n",
    "print(\"Recall score : \",recall_score(y_test,y_pred, average='macro'))\n",
    "print(\"Precision : \",precision_score(y_test,y_pred, average='macro'))\n",
    "print(\"F1 score : \",f1_score(y_test,y_pred, average='macro'))"
   ]
  },
  {
   "cell_type": "code",
   "execution_count": 41,
   "id": "63ed48cd",
   "metadata": {},
   "outputs": [
    {
     "name": "stdout",
     "output_type": "stream",
     "text": [
      "Accuracy Score:  0.628\n",
      "Recall score :  0.6219901002052103\n",
      "Precision :  0.6173508415320553\n",
      "F1 score :  0.6144785357992929\n"
     ]
    }
   ],
   "source": [
    "# Naibe Bayes - Complement \n",
    "\n",
    "compnb = ComplementNB(alpha=1.0)\n",
    "compnb.fit(X_train , y_train)\n",
    "\n",
    "y_pred = compnb.predict(X_test)\n",
    "\n",
    "print(\"Accuracy Score: \", accuracy_score(y_test,y_pred))\n",
    "print(\"Recall score : \",recall_score(y_test,y_pred, average='macro'))\n",
    "print(\"Precision : \",precision_score(y_test,y_pred, average='macro'))\n",
    "print(\"F1 score : \",f1_score(y_test,y_pred, average='macro'))"
   ]
  },
  {
   "cell_type": "code",
   "execution_count": 47,
   "id": "0549d4f7",
   "metadata": {},
   "outputs": [
    {
     "name": "stdout",
     "output_type": "stream",
     "text": [
      "Accuracy Score:  0.6415555555555555\n",
      "Recall score :  0.6373725682983397\n",
      "Precision :  0.6382884469582847\n",
      "F1 score :  0.6371700926005767\n"
     ]
    }
   ],
   "source": [
    "# Logistic Regression\n",
    "\n",
    "import warnings\n",
    "from sklearn.exceptions import ConvergenceWarning\n",
    "\n",
    "log_reg = LogisticRegression(max_iter=1000)\n",
    "\n",
    "# log_reg.fit(X_train , y_train)\n",
    "\n",
    "with warnings.catch_warnings():\n",
    "    warnings.filterwarnings(\"ignore\", category=ConvergenceWarning)\n",
    "    log_reg.fit(X_train, y_train)\n",
    "    \n",
    "y_pred = log_reg.predict(X_test)\n",
    "\n",
    "print(\"Accuracy Score: \", accuracy_score(y_test,y_pred))\n",
    "print(\"Recall score : \",recall_score(y_test,y_pred, average='macro'))\n",
    "print(\"Precision : \",precision_score(y_test,y_pred, average='macro'))\n",
    "print(\"F1 score : \",f1_score(y_test,y_pred, average='macro'))"
   ]
  },
  {
   "cell_type": "code",
   "execution_count": 46,
   "id": "8a60d172",
   "metadata": {},
   "outputs": [
    {
     "name": "stdout",
     "output_type": "stream",
     "text": [
      "Epoch 1: Training Accuracy = 0.7511, Testing Accuracy = 0.6420\n",
      "Epoch 2: Training Accuracy = 0.7511, Testing Accuracy = 0.6420\n",
      "Epoch 3: Training Accuracy = 0.7511, Testing Accuracy = 0.6420\n",
      "Epoch 4: Training Accuracy = 0.7511, Testing Accuracy = 0.6420\n",
      "Epoch 5: Training Accuracy = 0.7511, Testing Accuracy = 0.6420\n",
      "Epoch 6: Training Accuracy = 0.7511, Testing Accuracy = 0.6420\n",
      "Epoch 7: Training Accuracy = 0.7511, Testing Accuracy = 0.6420\n",
      "Epoch 8: Training Accuracy = 0.7511, Testing Accuracy = 0.6420\n",
      "Epoch 9: Training Accuracy = 0.7511, Testing Accuracy = 0.6420\n",
      "Epoch 10: Training Accuracy = 0.7511, Testing Accuracy = 0.6420\n"
     ]
    }
   ],
   "source": [
    "# Training the logistic regression model for 10 epochs\n",
    "\n",
    "log_reg = LogisticRegression(solver='lbfgs', max_iter=100)\n",
    "for epoch in range(10):\n",
    "#     log_reg.fit(X_train, y_train)\n",
    "    with warnings.catch_warnings():\n",
    "        warnings.filterwarnings(\"ignore\", category=ConvergenceWarning)\n",
    "        log_reg.fit(X_train, y_train)\n",
    "    \n",
    "    print(\"Epoch {}: Training Accuracy = {:.4f}, Testing Accuracy = {:.4f}\".format(\n",
    "        epoch+1, log_reg.score(X_train, y_train), log_reg.score(X_test, y_test)))"
   ]
  },
  {
   "cell_type": "code",
   "execution_count": 48,
   "id": "37536b7a",
   "metadata": {},
   "outputs": [
    {
     "name": "stdout",
     "output_type": "stream",
     "text": [
      "Accuracy Score:  0.6415555555555555\n",
      "Recall score :  0.6373725682983397\n",
      "Precision :  0.6382884469582847\n",
      "F1 score :  0.6371700926005767\n"
     ]
    }
   ],
   "source": [
    "y_pred = log_reg.predict(X_test)\n",
    "\n",
    "print(\"Accuracy Score: \", accuracy_score(y_test,y_pred)) \n",
    "print(\"Recall score : \",recall_score(y_test,y_pred, average='macro'))\n",
    "print(\"Precision : \",precision_score(y_test,y_pred, average='macro'))\n",
    "print(\"F1 score : \",f1_score(y_test,y_pred, average='macro'))"
   ]
  },
  {
   "cell_type": "code",
   "execution_count": null,
   "id": "f8b450a7",
   "metadata": {},
   "outputs": [],
   "source": []
  }
 ],
 "metadata": {
  "kernelspec": {
   "display_name": "Python 3 (ipykernel)",
   "language": "python",
   "name": "python3"
  },
  "language_info": {
   "codemirror_mode": {
    "name": "ipython",
    "version": 3
   },
   "file_extension": ".py",
   "mimetype": "text/x-python",
   "name": "python",
   "nbconvert_exporter": "python",
   "pygments_lexer": "ipython3",
   "version": "3.9.13"
  }
 },
 "nbformat": 4,
 "nbformat_minor": 5
}
